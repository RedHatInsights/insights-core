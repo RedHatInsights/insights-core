{
 "cells": [
  {
   "cell_type": "markdown",
   "metadata": {
    "deletable": true,
    "editable": true
   },
   "source": [
    "# Insights Core Datasource Registry\n",
    "This notebook shows the recommended method of writing datasources.\n",
    "\n",
    "It also shows how to register datasources with Insights Core to provide alternative methods of collection while still taking advantage of our parser and combiner catalog.\n",
    "\n",
    "It assumes familiarity with datasources from the *Standard Components* section of the *Insights Core Tutorial*."
   ]
  },
  {
   "cell_type": "code",
   "execution_count": 1,
   "metadata": {
    "collapsed": true,
    "deletable": true,
    "editable": true
   },
   "outputs": [],
   "source": [
    "import sys\n",
    "sys.path.insert(0, \"../..\")"
   ]
  },
  {
   "cell_type": "code",
   "execution_count": 2,
   "metadata": {
    "collapsed": true,
    "deletable": true,
    "editable": true
   },
   "outputs": [],
   "source": [
    "from insights import run\n",
    "from insights.core import dr\n",
    "from insights.core.spec_factory import simple_file, simple_command"
   ]
  },
  {
   "cell_type": "markdown",
   "metadata": {
    "deletable": true,
    "editable": true
   },
   "source": [
    "## Fixing datasource names\n",
    "The simplest way to define a datasource is with a helper function from `insights.core.spec_factory`.\n",
    "\n",
    "However, if you use one of these to define a datasource at the module level, you'll notice that it doesn't have a very useful name."
   ]
  },
  {
   "cell_type": "code",
   "execution_count": 3,
   "metadata": {
    "collapsed": false,
    "deletable": true,
    "editable": true
   },
   "outputs": [
    {
     "name": "stdout",
     "output_type": "stream",
     "text": [
      "insights.core.spec_factory.inner\n"
     ]
    }
   ],
   "source": [
    "hosts = simple_file(\"/etc/hosts\")\n",
    "print dr.get_name(hosts)"
   ]
  },
  {
   "cell_type": "markdown",
   "metadata": {
    "deletable": true,
    "editable": true
   },
   "source": [
    "We can fix that by including it in a subclass of `insights.core.spec_factory.SpecSet`.\n",
    "\n",
    "**This is the recommended way of writing datasources and is required if you want to serialize and reconstitute them later.**"
   ]
  },
  {
   "cell_type": "code",
   "execution_count": 4,
   "metadata": {
    "collapsed": false,
    "deletable": true,
    "editable": true
   },
   "outputs": [
    {
     "name": "stdout",
     "output_type": "stream",
     "text": [
      "__main__.MySpecs.hosts\n"
     ]
    }
   ],
   "source": [
    "from insights.core.spec_factory import SpecSet\n",
    "\n",
    "class MySpecs(SpecSet):\n",
    "    hosts = simple_file(\"/etc/hosts\")\n",
    "\n",
    "print dr.get_name(MySpecs.hosts)"
   ]
  },
  {
   "cell_type": "markdown",
   "metadata": {
    "deletable": true,
    "editable": true
   },
   "source": [
    "## Making datasources dynamic\n",
    "What if you have datasources on which many downstream components depend, and you want to provide different ways of collecting the data they represent? Maybe you want to execute a command in one context, but you want to read from a file in another. Parsers depend on a single datasource, but jamming multiple collection methods into a single implementation isn't attractive.\n",
    "\n",
    "Instead, you can define a subclass of `insights.core.spec_factory.SpecSet` that has `insights.core.spec_factory.RegistryPoint` instances instead of regular datasources. Then you can provide implementations for the registry points in the form of datasources that are members of subclasses of your original class. This keeps the alternative implementations cleanly separated while allowing parsers to depend on a single component."
   ]
  },
  {
   "cell_type": "code",
   "execution_count": 5,
   "metadata": {
    "collapsed": true,
    "deletable": true,
    "editable": true
   },
   "outputs": [],
   "source": [
    "from insights.core.spec_factory import RegistryPoint\n",
    "from insights.core.context import ExecutionContext, HostContext\n",
    "\n",
    "# We'll use HostContext and OtherContext as our alternatives.\n",
    "\n",
    "class OtherContext(ExecutionContext):\n",
    "    pass"
   ]
  },
  {
   "cell_type": "code",
   "execution_count": 6,
   "metadata": {
    "collapsed": true,
    "deletable": true,
    "editable": true
   },
   "outputs": [],
   "source": [
    "# Define the components that your downstream components should depend on.\n",
    "\n",
    "class TheSpecs(SpecSet):\n",
    "    hostname = RegistryPoint()\n",
    "    fstab = simple_file(\"/etc/fstab\", context=HostContext)\n",
    "\n",
    "\n",
    "# Provide different implementations for hostname by subclassing TheSpecs and\n",
    "# giving the datasources names that match their corresponding registry points.\n",
    "\n",
    "class HostSpecs(TheSpecs):\n",
    "    hostname = simple_command(\"/usr/bin/hostname\", context=HostContext)\n",
    "\n",
    "class OtherSpecs(TheSpecs):\n",
    "    hostname = simple_file(\"/etc/hostname\", context=OtherContext)\n",
    "    \n",
    "# Note that we don't and actually can't provide an alternative for TheSpecs.fstab\n",
    "# since it's not a RegistryPoint."
   ]
  },
  {
   "cell_type": "markdown",
   "metadata": {
    "deletable": true,
    "editable": true
   },
   "source": [
    "Downstream components should depend on `TheSpecs.hostname`, and the implementation that actually runs and backs that component will depend on the context in which you run."
   ]
  },
  {
   "cell_type": "code",
   "execution_count": 7,
   "metadata": {
    "collapsed": false,
    "deletable": true,
    "editable": true
   },
   "outputs": [
    {
     "name": "stdout",
     "output_type": "stream",
     "text": [
      "CommandOutputProvider(\"/usr/bin/hostname\")\n"
     ]
    }
   ],
   "source": [
    "results = run(TheSpecs.hostname, context=HostContext)\n",
    "print results[TheSpecs.hostname]"
   ]
  },
  {
   "cell_type": "code",
   "execution_count": 8,
   "metadata": {
    "collapsed": false,
    "deletable": true,
    "editable": true
   },
   "outputs": [
    {
     "name": "stdout",
     "output_type": "stream",
     "text": [
      "TextFileProvider(\"/etc/hostname\")\n"
     ]
    }
   ],
   "source": [
    "results = run(TheSpecs.hostname, context=OtherContext)\n",
    "print results[TheSpecs.hostname]"
   ]
  },
  {
   "cell_type": "code",
   "execution_count": 9,
   "metadata": {
    "collapsed": false,
    "deletable": true,
    "editable": true
   },
   "outputs": [
    {
     "name": "stdout",
     "output_type": "stream",
     "text": [
      "TextFileProvider(\"/etc/fstab\")\n"
     ]
    }
   ],
   "source": [
    "results = run(TheSpecs.fstab, context=HostContext)\n",
    "print results[TheSpecs.fstab]"
   ]
  },
  {
   "cell_type": "markdown",
   "metadata": {
    "deletable": true,
    "editable": true
   },
   "source": [
    "`RegistryPoint` instances in `SpecSet` subclasses are converted to special datasources that simply check their dependencies and return the **last** one that succeeds. So, `TheSpecs.hostname` is just a datasource. When `HostSpecs` subclasses `TheSpecs`, the class machinery recognizes that `HostSpecs.hostname` is a datasource and is named the same as a `RegistryPoint` in an immediate super class. When that happens, the datasource of the subclass is added as a dependency of the datasource in the superclass.\n",
    "\n",
    "If the datasources in each subclass depend on different contexts, only one of them will fire. That's why when we ran with `HostContext`, the command was run, but when we ran with `OtherContext`, the file was collected.\n",
    "\n",
    "Notice that the `TheSpecs.fstab` datasource can be run, too. If a subclass had provided a datasource of the same name, it would not have been registered with the super class but would instead have stayed local to that subclass.\n",
    "\n",
    "Note also that the datasources in the alternative implementation classes aren't special in any other way. You can run them directly, and components can depend on them if you want, although if you're providing them as an implementation to a registry point, components really should depend on that instead of a particular implementation.\n",
    "\n",
    "What happens if you have multiple subclass implementations for a given registry point, and more than one of them depends on the same context? In that case, the last one to be registered for that context is the one that runs."
   ]
  },
  {
   "cell_type": "markdown",
   "metadata": {
    "deletable": true,
    "editable": true
   },
   "source": [
    "## Registering implementations for standard datasources\n",
    "\n",
    "Providing alternative implementations for the standard Insights Core datasources is easy. The datasources on which the core parsers depend are all defined as `RegistryPoint`s on the `Specs` class in `insights.specs`."
   ]
  },
  {
   "cell_type": "code",
   "execution_count": 10,
   "metadata": {
    "collapsed": false,
    "deletable": true,
    "editable": true
   },
   "outputs": [
    {
     "name": "stdout",
     "output_type": "stream",
     "text": [
      "TextFileProvider(\"/etc/hostname\")\n",
      "None\n"
     ]
    }
   ],
   "source": [
    "from insights.specs import Specs\n",
    "\n",
    "class UseThisInstead(Specs):\n",
    "    hostname = simple_file(\"/etc/hostname\", context=OtherContext)\n",
    "    \n",
    "results = run(Specs.hostname, context=OtherContext)\n",
    "print results[Specs.hostname]\n",
    "print results.get(Specs.hosts)"
   ]
  },
  {
   "cell_type": "markdown",
   "metadata": {
    "deletable": true,
    "editable": true
   },
   "source": [
    "Notice that `Specs.hosts` didn't run! That's because we haven't loaded the module containing the default implementations, and we've only provided an implementation for `Specs.hostname`. Also, none of the defaults depend on `OtherContext` anyway."
   ]
  },
  {
   "cell_type": "markdown",
   "metadata": {
    "deletable": true,
    "editable": true
   },
   "source": [
    "What if you want to use the default datasources but only want to override a few of them, even for the same context?\n",
    "\n",
    "Create a subclass that does exactly that:"
   ]
  },
  {
   "cell_type": "code",
   "execution_count": 11,
   "metadata": {
    "collapsed": false,
    "deletable": true,
    "editable": true
   },
   "outputs": [
    {
     "name": "stdout",
     "output_type": "stream",
     "text": [
      "TextFileProvider(\"/etc/hostname\")\n",
      "TextFileProvider(\"/etc/hostname\")\n",
      "None\n",
      "\n",
      "TextFileProvider(\"/etc/hosts\")\n",
      "TextFileProvider(\"/etc/hosts\")\n"
     ]
    }
   ],
   "source": [
    "from pprint import pprint\n",
    "from insights.specs import default  # load the default implementations\n",
    "\n",
    "# Note that the default context is HostContext unless otherwise specified\n",
    "# with a context= keyword argument.\n",
    "class SpecialSpecs(Specs):\n",
    "    hostname = simple_file(\"/etc/hostname\")\n",
    "\n",
    "results = run(Specs.hostname)\n",
    "\n",
    "# show that the default didn't run\n",
    "pprint(results[Specs.hostname])\n",
    "pprint(results[SpecialSpecs.hostname])\n",
    "pprint(results.get(default.DefaultSpecs.hostname, None))\n",
    "print\n",
    "\n",
    "results = run(Specs.hosts)\n",
    "\n",
    "#show that the default ran\n",
    "pprint(results[Specs.hosts])\n",
    "pprint(results[default.DefaultSpecs.hosts])"
   ]
  },
  {
   "cell_type": "markdown",
   "metadata": {
    "deletable": true,
    "editable": true
   },
   "source": [
    "If multiple datasources provide implementations for the same registry point and depend on the same context, then the last implementation to load is the one that is executed under that context."
   ]
  }
 ],
 "metadata": {
  "kernelspec": {
   "display_name": "Python 2",
   "language": "python",
   "name": "python2"
  },
  "language_info": {
   "codemirror_mode": {
    "name": "ipython",
    "version": 2
   },
   "file_extension": ".py",
   "mimetype": "text/x-python",
   "name": "python",
   "nbconvert_exporter": "python",
   "pygments_lexer": "ipython2",
   "version": "2.7.14"
  }
 },
 "nbformat": 4,
 "nbformat_minor": 2
}
