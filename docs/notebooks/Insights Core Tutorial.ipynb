{
 "cells": [
  {
   "cell_type": "markdown",
   "metadata": {
    "deletable": true,
    "editable": true
   },
   "source": [
    "# Red Hat Insights Core\n",
    "Insights Core is a framework for collecting and processing data on systems in a standard way. The general idea is to collect data from files or commands, convert the output of each to a python object with an appropriate interface, optionally compose several of those objects into others to unify their APIs or provide a friendlier one, and finally to write policies that operate on any of those components.\n",
    "\n",
    "You don't have to use all of the features Insights Core provides. You can use it as a simple file and command collector. But the real power comes from the catalogues of built-in components that go beyond simple data collection to expose proper objects to your own extensions of the system.\n",
    "\n",
    "To accomplish this, Insights Core uses a dependency engine. Components in the form of class or function definitions declare dependencies on other components with decorators, and the resulting dependency graphs can be executed once all components you care about have been loaded.\n",
    "\n",
    "This is an introduction to the dependency resolution system followed by a tour of the standard components Insights Core provides."
   ]
  },
  {
   "cell_type": "markdown",
   "metadata": {
    "deletable": true,
    "editable": true
   },
   "source": [
    "## Components\n",
    "To make a component, we first have to create a component type, which is a decorator used to define components."
   ]
  },
  {
   "cell_type": "code",
   "execution_count": 1,
   "metadata": {
    "collapsed": false,
    "deletable": true,
    "editable": true
   },
   "outputs": [],
   "source": [
    "import sys\n",
    "sys.path.insert(0, \"../..\")\n",
    "from insights.core import dr"
   ]
  },
  {
   "cell_type": "code",
   "execution_count": 2,
   "metadata": {
    "collapsed": false,
    "deletable": true,
    "editable": true
   },
   "outputs": [],
   "source": [
    "# Here's our component type with the clever name \"component.\"\n",
    "\n",
    "# Insights Core provides several types that we'll come to later.\n",
    "class component(dr.ComponentType):\n",
    "    pass"
   ]
  },
  {
   "cell_type": "markdown",
   "metadata": {
    "deletable": true,
    "editable": true
   },
   "source": [
    "### How do I use it?"
   ]
  },
  {
   "cell_type": "code",
   "execution_count": 3,
   "metadata": {
    "collapsed": true,
    "deletable": true,
    "editable": true
   },
   "outputs": [],
   "source": [
    "import random\n",
    "\n",
    "# Make two components with no dependencies\n",
    "@component()\n",
    "def rand():\n",
    "    return random.random()\n",
    "\n",
    "@component()\n",
    "def three():\n",
    "    return 3\n",
    "\n",
    "# Make a component that depends on the other two. Notice that we depend on two\n",
    "# things, and there are two arguments to the function.\n",
    "@component(rand, three)\n",
    "def mul_things(x, y):\n",
    "    return x * y"
   ]
  },
  {
   "cell_type": "code",
   "execution_count": 4,
   "metadata": {
    "collapsed": false,
    "deletable": true,
    "editable": true
   },
   "outputs": [
    {
     "name": "stdout",
     "output_type": "stream",
     "text": [
      "{<function three at 0x7fb8b13f0488>: 3,\n",
      " <function mul_things at 0x7fb8b13f05f0>: 2.571919373075568,\n",
      " <function rand at 0x7fb8b13f0668>: 0.8573064576918561,\n",
      " <function machine_id at 0x7fb8b1bc1c80>: '0'}\n"
     ]
    }
   ],
   "source": [
    "# Now that we have a few components defined, let's run them.\n",
    "\n",
    "from pprint import pprint\n",
    "\n",
    "# If you call run with no arguments, all components of every type (with a few caveats\n",
    "# I'll address later) are run, and their values or exceptions are collected in an\n",
    "# object called a broker.\n",
    "broker = dr.run()\n",
    "pprint(broker.instances)"
   ]
  },
  {
   "cell_type": "markdown",
   "metadata": {
    "deletable": true,
    "editable": true
   },
   "source": [
    "## Component Types\n",
    "We can define components of different types by creating different decorators."
   ]
  },
  {
   "cell_type": "code",
   "execution_count": 5,
   "metadata": {
    "collapsed": true,
    "deletable": true,
    "editable": true
   },
   "outputs": [],
   "source": [
    "class stage(dr.ComponentType):\n",
    "    pass"
   ]
  },
  {
   "cell_type": "code",
   "execution_count": 6,
   "metadata": {
    "collapsed": true,
    "deletable": true,
    "editable": true
   },
   "outputs": [],
   "source": [
    "@stage(mul_things)\n",
    "def spam(m):\n",
    "    return int(m)"
   ]
  },
  {
   "cell_type": "code",
   "execution_count": 7,
   "metadata": {
    "collapsed": false,
    "deletable": true,
    "editable": true,
    "scrolled": true
   },
   "outputs": [
    {
     "name": "stdout",
     "output_type": "stream",
     "text": [
      "All Instances\n",
      "{<function three at 0x7fb8b13f0488>: 3,\n",
      " <function mul_things at 0x7fb8b13f05f0>: 0.010630683491892445,\n",
      " <function rand at 0x7fb8b13f0668>: 0.0035435611639641484,\n",
      " <function machine_id at 0x7fb8b1bc1c80>: '1',\n",
      " <function spam at 0x7fb8c35f68c0>: 0}\n",
      "\n",
      "Components\n",
      "{<function three at 0x7fb8b13f0488>: 3,\n",
      " <function mul_things at 0x7fb8b13f05f0>: 0.010630683491892445,\n",
      " <function rand at 0x7fb8b13f0668>: 0.0035435611639641484}\n",
      "\n",
      "Stages\n",
      "{<function spam at 0x7fb8c35f68c0>: 0}\n"
     ]
    }
   ],
   "source": [
    "broker = dr.run()\n",
    "print \"All Instances\"\n",
    "pprint(broker.instances)\n",
    "print\n",
    "print \"Components\"\n",
    "pprint(broker.get_by_type(component))\n",
    "\n",
    "print\n",
    "print \"Stages\"\n",
    "pprint(broker.get_by_type(stage))"
   ]
  },
  {
   "cell_type": "markdown",
   "metadata": {
    "deletable": true,
    "editable": true
   },
   "source": [
    "## Component Invocation\n",
    "You can customize how components of a given type get called by overriding the `invoke` method of your `ComponentType` class. For example, if you want your components to receive the broker itself instead of individual arguments, you can do the following."
   ]
  },
  {
   "cell_type": "code",
   "execution_count": 8,
   "metadata": {
    "collapsed": true,
    "deletable": true,
    "editable": true
   },
   "outputs": [],
   "source": [
    "class thing(dr.ComponentType):\n",
    "    def invoke(self, broker):\n",
    "        return self.component(broker)\n",
    "\n",
    "@thing(rand, three)\n",
    "def stuff(broker):\n",
    "    r = broker[rand]\n",
    "    t = broker[three]\n",
    "    return r + t"
   ]
  },
  {
   "cell_type": "code",
   "execution_count": 9,
   "metadata": {
    "collapsed": false,
    "deletable": true,
    "editable": true
   },
   "outputs": [
    {
     "name": "stdout",
     "output_type": "stream",
     "text": [
      "3.5154677965\n"
     ]
    }
   ],
   "source": [
    "broker = dr.run()\n",
    "print broker[stuff]"
   ]
  },
  {
   "cell_type": "markdown",
   "metadata": {
    "deletable": true,
    "editable": true
   },
   "source": [
    "Notice that broker can be used as a dictionary to get the value of components that have already executed without directly looking at the `broker.instances` attribute."
   ]
  },
  {
   "cell_type": "markdown",
   "metadata": {
    "deletable": true,
    "editable": true
   },
   "source": [
    "## Exception Handling\n",
    "When a component raises an exception, the exception is recorded in a dictionary whose key is the component and whose value is a list of exceptions. The traceback related to each exception is recorded in a dictionary of exceptions to tracebacks. We record exceptions in a list because some components may generate more than one value. We'll come to that later."
   ]
  },
  {
   "cell_type": "code",
   "execution_count": 10,
   "metadata": {
    "collapsed": false,
    "deletable": true,
    "editable": true
   },
   "outputs": [
    {
     "name": "stdout",
     "output_type": "stream",
     "text": [
      "Exception('Boom!',)\n",
      "\n",
      "Traceback (most recent call last):\n",
      "  File \"../../insights/core/dr.py\", line 613, in run\n",
      "    result = DELEGATES[component].process(broker)\n",
      "  File \"../../insights/core/dr.py\", line 463, in process\n",
      "    return self.invoke(broker)\n",
      "  File \"../../insights/core/dr.py\", line 451, in invoke\n",
      "    return self.component(*args)\n",
      "  File \"<ipython-input-10-bc534c6da647>\", line 3, in boom\n",
      "    raise Exception(\"Boom!\")\n",
      "Exception: Boom!\n",
      "\n"
     ]
    },
    {
     "name": "stderr",
     "output_type": "stream",
     "text": [
      "No handlers could be found for logger \"insights.core.dr\"\n"
     ]
    }
   ],
   "source": [
    "@stage()\n",
    "def boom():\n",
    "    raise Exception(\"Boom!\")\n",
    "\n",
    "broker = dr.run()\n",
    "e = broker.exceptions[boom][0]\n",
    "t = broker.tracebacks[e]\n",
    "pprint(e)\n",
    "print\n",
    "print t"
   ]
  },
  {
   "cell_type": "markdown",
   "metadata": {
    "deletable": true,
    "editable": true
   },
   "source": [
    "## Missing Dependencies\n",
    "A component with any missing required dependencies will not be called. Missing dependencies are recorded in the broker in a dictionary whose keys are components and whose values are tuples with two values. The first is a list of all missing **required** dependencies. The second is a list of all dependencies of which at least one was required."
   ]
  },
  {
   "cell_type": "code",
   "execution_count": 11,
   "metadata": {
    "collapsed": false,
    "deletable": true,
    "editable": true
   },
   "outputs": [
    {
     "name": "stdout",
     "output_type": "stream",
     "text": [
      "([\"where's my stuff at?\"], [])\n"
     ]
    }
   ],
   "source": [
    "@stage(\"where's my stuff at?\")\n",
    "def missing_stuff(s):\n",
    "    return s\n",
    "\n",
    "broker = dr.run()\n",
    "print broker.missing_requirements[missing_stuff]"
   ]
  },
  {
   "cell_type": "code",
   "execution_count": 12,
   "metadata": {
    "collapsed": false,
    "deletable": true,
    "editable": true
   },
   "outputs": [
    {
     "name": "stdout",
     "output_type": "stream",
     "text": [
      "(['a', 'b'], [['e', 'f']])\n"
     ]
    }
   ],
   "source": [
    "@stage(\"a\", \"b\", [rand, \"d\"], [\"e\", \"f\"])\n",
    "def missing_more_stuff(a, b, c, d, e, f):\n",
    "    return a + b + c + d + e + f\n",
    "\n",
    "broker = dr.run()\n",
    "print broker.missing_requirements[missing_more_stuff]"
   ]
  },
  {
   "cell_type": "markdown",
   "metadata": {
    "deletable": true,
    "editable": true
   },
   "source": [
    "Notice that the first elements in the dependency list after `@stage` are simply \"a\" and \"b\", but the next two elements are themselves lists. This means that at least one element of each list must be present. The first \"any\" list has [rand, \"d\"], and rand is available, so it resolves. However, neither \"e\" nor \"f\" are available, so the resolution fails. Our missing dependencies list includes the first two standalone elements as well as the second \"any\" list."
   ]
  },
  {
   "cell_type": "markdown",
   "metadata": {
    "deletable": true,
    "editable": true
   },
   "source": [
    "## SkipComponent\n",
    "Components that raise `dr.SkipComponent` won't have any values or exceptions recorded and will be treated as missing dependencies for components that depend on them."
   ]
  },
  {
   "cell_type": "markdown",
   "metadata": {
    "deletable": true,
    "editable": true
   },
   "source": [
    "## Optional Dependencies\n",
    "\n",
    "There's an \"optional\" keyword that  takes a list of components that should be run before the current one. If they throw exceptions or don't run for some other reason, execute the current component anyway and just say they were None."
   ]
  },
  {
   "cell_type": "code",
   "execution_count": 13,
   "metadata": {
    "collapsed": false,
    "deletable": true,
    "editable": true
   },
   "outputs": [
    {
     "name": "stdout",
     "output_type": "stream",
     "text": [
      "(True, None)\n"
     ]
    }
   ],
   "source": [
    "@stage(rand, optional=['test'])\n",
    "def is_greater_than_ten(r, t):\n",
    "    return (int(r*10.0) < 5.0, t)\n",
    "\n",
    "broker = dr.run()\n",
    "print broker[is_greater_than_ten]"
   ]
  },
  {
   "cell_type": "markdown",
   "metadata": {
    "deletable": true,
    "editable": true
   },
   "source": [
    "## Automatic Dependencies\n",
    "The definition of a component type may include `requires` and `optional` attributes. Their specifications are the same as the `requires` and `optional` portions of the component decorators. Any component decorated with a component type that has `requires` or `optional` in the class definition will automatically depend on the specified components, and any additional dependencies on the component itself will just be appended.\n",
    "\n",
    "This functionality should almost never be used because it makes it impossible to tell that the component has implied dependencies."
   ]
  },
  {
   "cell_type": "code",
   "execution_count": 14,
   "metadata": {
    "collapsed": false,
    "deletable": true,
    "editable": true
   },
   "outputs": [
    {
     "name": "stdout",
     "output_type": "stream",
     "text": [
      "1.5484228916782383\n",
      "set([<function rand at 0x7fb8b13f0668>])\n"
     ]
    }
   ],
   "source": [
    "class mything(dr.ComponentType):\n",
    "    requires = [rand]\n",
    "    \n",
    "@mything()\n",
    "def dothings(r):\n",
    "    return 4 * r\n",
    "\n",
    "broker = dr.run(broker=broker)\n",
    "\n",
    "pprint(broker[dothings])\n",
    "pprint(dr.get_dependencies(dothings))"
   ]
  },
  {
   "cell_type": "markdown",
   "metadata": {
    "deletable": true,
    "editable": true
   },
   "source": [
    "## Metadata\n",
    "Component types and components can define metadata in their definitions. If a component's type defines metadata, that metadata is inherited by the component, although the component may override it."
   ]
  },
  {
   "cell_type": "code",
   "execution_count": 15,
   "metadata": {
    "collapsed": false,
    "deletable": true,
    "editable": true
   },
   "outputs": [
    {
     "data": {
      "text/plain": [
       "{'a': 3, 'b': 4, 'c': 5}"
      ]
     },
     "execution_count": 15,
     "metadata": {},
     "output_type": "execute_result"
    }
   ],
   "source": [
    "class anotherthing(dr.ComponentType):\n",
    "    metadata={\"a\": 3}\n",
    "    \n",
    "@anotherthing(metadata={\"b\": 4, \"c\": 5})\n",
    "def four():\n",
    "    return 4\n",
    "\n",
    "dr.get_metadata(four)"
   ]
  },
  {
   "cell_type": "markdown",
   "metadata": {
    "deletable": true,
    "editable": true
   },
   "source": [
    "## Component Groups\n",
    "So far we haven't said how we might group components together outside of defining different component types. But sometimes we might want to specify certain components, even of different component types, to belong together and to only be executed when explicitly asked to do so.\n",
    "\n",
    "All of our components so far have implicitly belonged to the default group. However, component types and even individual components can be assigned to specific groups, which will run only when explicitly specified."
   ]
  },
  {
   "cell_type": "code",
   "execution_count": 16,
   "metadata": {
    "collapsed": false,
    "deletable": true,
    "editable": true
   },
   "outputs": [
    {
     "name": "stdout",
     "output_type": "stream",
     "text": [
      "{<function five at 0x7fb8b1385aa0>: 5}\n"
     ]
    }
   ],
   "source": [
    "class grouped(dr.ComponentType):\n",
    "    group = \"grouped\"\n",
    "\n",
    "@grouped()\n",
    "def five():\n",
    "    return 5\n",
    "\n",
    "b = dr.Broker()\n",
    "dr.run(dr.COMPONENTS[\"grouped\"], broker=b)\n",
    "pprint(b.instances)"
   ]
  },
  {
   "cell_type": "markdown",
   "metadata": {
    "deletable": true,
    "editable": true
   },
   "source": [
    "If a group isn't specified in the type definition or in the component decorator, the default group is assumed. Likewise, the default group is assumed when calling `run` if one isn't provided."
   ]
  },
  {
   "cell_type": "markdown",
   "metadata": {
    "deletable": true,
    "editable": true
   },
   "source": [
    "## run_incremental\n",
    "Since hundreds or even thousands of dependencies can be defined, it's sometimes useful to separate them into graphs that don't share any components and execute those graphs one at a time. In addition to the `run` function, the `dr` module also provides a `run_incremental` function that does exactly that. You can give it a starting broker (or none at all), and it will yield a new broker for each distinct graph among all the dependencies."
   ]
  },
  {
   "cell_type": "markdown",
   "metadata": {
    "deletable": true,
    "editable": true
   },
   "source": [
    "## Inspecting Components\n",
    "The `dr` module provides several functions for inspecting components. You can get their aliases, dependencies, dependents, groups, type, even their entire dependency trees."
   ]
  },
  {
   "cell_type": "code",
   "execution_count": 17,
   "metadata": {
    "collapsed": false,
    "deletable": true,
    "editable": true
   },
   "outputs": [
    {
     "name": "stdout",
     "output_type": "stream",
     "text": [
      "\n",
      "Module (times_two): __main__\n",
      "\n",
      "Component Type (times_two): <class '__main__.stage'>\n",
      "\n",
      "Dependencies (times_two): \n",
      "set([<function six at 0x7fb8b1385cf8>])\n",
      "\n",
      "Dependency Graph (stuff): \n",
      "{<function three at 0x7fb8b13f0488>: set([]),\n",
      " <function rand at 0x7fb8b13f0668>: set([]),\n",
      " <function stuff at 0x7fb8b13f0ed8>: set([<function three at 0x7fb8b13f0488>,\n",
      "                                          <function rand at 0x7fb8b13f0668>])}\n",
      "\n",
      "Dependents (rand): \n",
      "set([<function missing_more_stuff at 0x7fb8b1385398>,\n",
      "     <function is_greater_than_ten at 0x7fb8b1385668>,\n",
      "     <function dothings at 0x7fb8b13857d0>,\n",
      "     <function mul_things at 0x7fb8b13f05f0>,\n",
      "     <function stuff at 0x7fb8b13f0ed8>])\n",
      "\n",
      "Group (six): 0\n",
      "\n",
      "Metadata (four): {'a': 3, 'b': 4, 'c': 5}\n",
      " \n",
      "Module Name (times_two): __main__\n",
      "\n",
      "Name (times_two): __main__.times_two\n",
      "\n",
      "Simple Name (times_two): times_two\n"
     ]
    }
   ],
   "source": [
    "from insights.core import dr\n",
    "\n",
    "@stage()\n",
    "def six():\n",
    "    return 6\n",
    "\n",
    "@stage(six)\n",
    "def times_two(x):\n",
    "    return x * 2\n",
    "\n",
    "# If the component's full name was foo.bar.baz.six, this would print \"baz\"\n",
    "print \"\\nModule (times_two):\", dr.get_base_module_name(times_two)\n",
    "\n",
    "print \"\\nComponent Type (times_two):\", dr.get_component_type(times_two)\n",
    "\n",
    "print \"\\nDependencies (times_two): \"\n",
    "pprint(dr.get_dependencies(times_two))\n",
    "\n",
    "print \"\\nDependency Graph (stuff): \"\n",
    "pprint(dr.get_dependency_graph(stuff))\n",
    "\n",
    "print \"\\nDependents (rand): \"\n",
    "pprint(dr.get_dependents(rand))\n",
    "\n",
    "print \"\\nGroup (six):\", dr.get_group(six)\n",
    "\n",
    "print \"\\nMetadata (four): \",\n",
    "pprint(dr.get_metadata(four))\n",
    "\n",
    "# prints the full module name of the component\n",
    "print \"\\nModule Name (times_two):\", dr.get_module_name(times_two)\n",
    "\n",
    "# prints the module name joined to the component name by a \".\"\n",
    "print \"\\nName (times_two):\", dr.get_name(times_two)\n",
    "\n",
    "print \"\\nSimple Name (times_two):\", dr.get_simple_name(times_two)"
   ]
  },
  {
   "cell_type": "markdown",
   "metadata": {
    "deletable": true,
    "editable": true
   },
   "source": [
    "## Loading Components\n",
    "If you have components defined in a package and the root of that path is in `sys.path`, you can load the package and all its subpackages and modules by calling `dr.load_components`. This way you don't have to load every component module individually.\n",
    "\n",
    "```python\n",
    "# recursively load all packages and modules in path.to.package\n",
    "dr.load_components(\"path.to.package\")\n",
    "\n",
    "# or load a single module\n",
    "dr.load_components(\"path.to.package.module\")\n",
    "```"
   ]
  },
  {
   "cell_type": "markdown",
   "metadata": {
    "deletable": true,
    "editable": true
   },
   "source": [
    "Now that you know the basics of Insights Core dependency resolution, let's move on to the rest of Core that builds on it."
   ]
  },
  {
   "cell_type": "markdown",
   "metadata": {
    "deletable": true,
    "editable": true
   },
   "source": [
    "## Standard Component Types\n",
    "The standard component types provided by Insights Core are `datasource`, `parser`, `combiner`, `rule`, `condition`, and `incident`. They're defined in `insights.core.plugins`.\n",
    "\n",
    "Some have specialized interfaces and executors that adapt the dependency specification parts described above to what developers using previous versions of Insights Core have come to expect.\n",
    "\n",
    "For more information on parser, combiner, and rule development, please see our [component developer tutorials](http://insights-core.readthedocs.io/en/latest/rule_tutorial_index.html)."
   ]
  },
  {
   "cell_type": "markdown",
   "metadata": {
    "deletable": true,
    "editable": true
   },
   "source": [
    "### Datasource\n",
    "A datasource used to be called a spec. Components of this type collect data and make it available to other components. Since we have several hundred predefined datasources that fall into just a handful of categories, we've streamlined the process of creating them.\n",
    "\n",
    "Datasources are defined either with the `@datasource` decorator or with helper functions from `insights.core.spec_factory`.\n",
    "\n",
    "The `spec_factory` module has a handful of functions for defining common datasource types.\n",
    "- simple_file\n",
    "- glob_file\n",
    "- simple_command\n",
    "- listdir\n",
    "- foreach_execute\n",
    "- foreach_collect\n",
    "- first_file\n",
    "- first_of\n",
    "\n",
    "All datasources defined helper functions will depend on a `ExecutionContext` of some kind. Contexts let you activate different datasources for different environments. Most of them provide a root path for file collection and may perform some environment specific setup for commands, even modifying the command strings if needed.\n",
    "\n",
    "For now, we'll use a `HostContext`. This tells datasources to collect files starting at the root of the file system and to execute commands exactly as they are defined. Other contexts are in `insights.core.contexts`.\n",
    "\n",
    "All file collection datasources depend on any context that provides a path to use as root unless a particular context is specified. In other words, some datasources will activate for multiple contexts unless told otherwise."
   ]
  },
  {
   "cell_type": "markdown",
   "metadata": {
    "deletable": true,
    "editable": true
   },
   "source": [
    "#### simple_file\n",
    "`simple_file` reads a file from the file system and makes it available as a `TextFileProvider`. A `TextFileProvider` instance contains the path to the file and its content as a list of lines."
   ]
  },
  {
   "cell_type": "code",
   "execution_count": 18,
   "metadata": {
    "collapsed": false,
    "deletable": true,
    "editable": true
   },
   "outputs": [
    {
     "name": "stdout",
     "output_type": "stream",
     "text": [
      "/etc/redhat-release ['Fedora release 27 (Twenty Seven)']\n",
      "/etc/hostname ['localhost.localdomain']\n"
     ]
    }
   ],
   "source": [
    "from insights.core import dr\n",
    "from insights.core.context import HostContext\n",
    "from insights.core.spec_factory import (simple_file,\n",
    "                                        glob_file,\n",
    "                                        simple_command,\n",
    "                                        listdir,\n",
    "                                        foreach_execute,\n",
    "                                        foreach_collect,\n",
    "                                        first_file,\n",
    "                                        first_of)\n",
    "\n",
    "release = simple_file(\"/etc/redhat-release\")\n",
    "hostname = simple_file(\"/etc/hostname\")\n",
    "\n",
    "ctx = HostContext()\n",
    "broker = dr.Broker()\n",
    "broker[HostContext] = ctx\n",
    "\n",
    "broker = dr.run(broker=broker)\n",
    "print broker[release].path, broker[release].content\n",
    "print broker[hostname].path, broker[hostname].content"
   ]
  },
  {
   "cell_type": "markdown",
   "metadata": {
    "collapsed": true,
    "deletable": true,
    "editable": true
   },
   "source": [
    "#### glob_file\n",
    "`glob_file` accepts glob patterns and evaluates at runtime to a list of `TextFileProvider` instances, one for each match. You can pass `glob_file` a single pattern or a list (or set) of patterns. It also accepts an `ignore` keyword, which should be a regular expression string matching paths to ignore. The glob and ignore patterns can be used together to match lots of files and then throw out the ones you don't want."
   ]
  },
  {
   "cell_type": "code",
   "execution_count": 19,
   "metadata": {
    "collapsed": false,
    "deletable": true,
    "editable": true
   },
   "outputs": [
    {
     "name": "stdout",
     "output_type": "stream",
     "text": [
      "[TextFileProvider(\"/etc/host.conf\"), TextFileProvider(\"/etc/hostname\"), TextFileProvider(\"/etc/hosts\")]\n"
     ]
    }
   ],
   "source": [
    "host_stuff = glob_file(\"/etc/host*\", ignore=\"(allow|deny)\")\n",
    "broker = dr.run(broker=broker)\n",
    "print broker[host_stuff]"
   ]
  },
  {
   "cell_type": "markdown",
   "metadata": {
    "deletable": true,
    "editable": true
   },
   "source": [
    "#### simple_command\n",
    "`simple_command` allows you to get the results of a command that takes no arguments or for which you know all of the arguments up front.\n",
    "\n",
    "It and other command datasources return a `CommandOutputProvider` instance, which has the command string, any arguments interpolated into it (more later), the return code if you requested it via the `keep_rc=True` keyword, and the command output as a list of lines.\n",
    "\n",
    "`simple_command` also accepts a `timeout` keyword, which is the maximum number of seconds the system should attempt to execute the command before a `CalledProcessError` is raised for the component.\n",
    "\n",
    "A default timeout for all commands can be set on the initial `ExecutionContext` instance with the `timeout` keyword argument.\n",
    "\n",
    "If a timeout isn't specified in the `ExecutionContext` or on the command itself, none is used."
   ]
  },
  {
   "cell_type": "code",
   "execution_count": 20,
   "metadata": {
    "collapsed": false,
    "deletable": true,
    "editable": true
   },
   "outputs": [
    {
     "name": "stdout",
     "output_type": "stream",
     "text": [
      "('/usr/bin/uptime', None, None, [u' 15:33:28 up 9 days,  1:56,  1 user,  load average: 0.60, 0.33, 0.42'])\n"
     ]
    }
   ],
   "source": [
    "uptime = simple_command(\"/usr/bin/uptime\")\n",
    "broker = dr.run(broker=broker)\n",
    "print (broker[uptime].cmd, broker[uptime].args, broker[uptime].rc, broker[uptime].content)"
   ]
  },
  {
   "cell_type": "markdown",
   "metadata": {
    "deletable": true,
    "editable": true
   },
   "source": [
    "#### listdir\n",
    "`listdir` lets you get the contents of a directory."
   ]
  },
  {
   "cell_type": "code",
   "execution_count": 21,
   "metadata": {
    "collapsed": false,
    "deletable": true,
    "editable": true
   },
   "outputs": [
    {
     "name": "stdout",
     "output_type": "stream",
     "text": [
      "['docker0', 'enp0s31f6', 'lo', 'tun0', 'virbr0', 'virbr0-nic', 'wlp3s0']\n"
     ]
    }
   ],
   "source": [
    "interfaces = listdir(\"/sys/class/net\")\n",
    "broker = dr.run(broker=broker)\n",
    "pprint(broker[interfaces])"
   ]
  },
  {
   "cell_type": "markdown",
   "metadata": {
    "deletable": true,
    "editable": true
   },
   "source": [
    "#### foreach_execute\n",
    "`foreach_execute` allows you to use output from one component as input to a datasource command string. For example, using the output of the interfaces datasource above, we can get ethtool information about all of the ethernet devices.\n",
    "\n",
    "The timeout description provided in the `simple_command` section applies here to each seperate invocation."
   ]
  },
  {
   "cell_type": "code",
   "execution_count": 22,
   "metadata": {
    "collapsed": false,
    "deletable": true,
    "editable": true
   },
   "outputs": [
    {
     "name": "stdout",
     "output_type": "stream",
     "text": [
      "[CommandOutputProvider(\"ethtool docker0\"),\n",
      " CommandOutputProvider(\"ethtool enp0s31f6\"),\n",
      " CommandOutputProvider(\"ethtool lo\"),\n",
      " CommandOutputProvider(\"ethtool tun0\"),\n",
      " CommandOutputProvider(\"ethtool virbr0\"),\n",
      " CommandOutputProvider(\"ethtool virbr0-nic\"),\n",
      " CommandOutputProvider(\"ethtool wlp3s0\")]\n"
     ]
    }
   ],
   "source": [
    "ethtool = foreach_execute(interfaces, \"ethtool %s\")\n",
    "broker = dr.run(broker=broker)\n",
    "pprint(broker[ethtool])"
   ]
  },
  {
   "cell_type": "markdown",
   "metadata": {
    "deletable": true,
    "editable": true
   },
   "source": [
    "Notice each element in the list returned by `interfaces` is a single string. The system interpolates each element into the `ethtool` command string and evaluates each result. This produces a list of objects, one for each input element, instead of a single object. If the list created by `interfaces` contained tuples with `n` elements, then our command string would have had `n` substitution parameters."
   ]
  },
  {
   "cell_type": "markdown",
   "metadata": {
    "deletable": true,
    "editable": true
   },
   "source": [
    "#### foreach_collect\n",
    "`foreach_collect` works similarly to `foreach_execute`, but instead of running commands with interpolated arguments, it collects files at paths with interpolated arguments. Also, because it is a file collection, it doesn't not have execution related keyword arguments"
   ]
  },
  {
   "cell_type": "markdown",
   "metadata": {
    "deletable": true,
    "editable": true
   },
   "source": [
    "#### first_file\n",
    "`first_file` takes a list of paths and returns a `TextFileProvider` for the first one it finds. This is useful if you're looking for a single file that might be in different locations."
   ]
  },
  {
   "cell_type": "markdown",
   "metadata": {
    "deletable": true,
    "editable": true
   },
   "source": [
    "#### first_of\n",
    "`first_of` is a way to express that you want to use any datasource from a list of datasources you've already defined. This is helpful if the way you collect data differs in different contexts, but the output is the same.\n",
    "\n",
    "For example, the way you collect installed rpms directly from a machine differs from how you would collect them from a docker image. Ultimately, downstream components don't care: they just want rpm data.\n",
    "\n",
    "You could do the following. Notice that `host_rpms` and `docker_installed_rpms` implement different ways of getting rpm data that depend on different contexts, but the final `installed_rpms` datasource just references whichever one ran."
   ]
  },
  {
   "cell_type": "code",
   "execution_count": 23,
   "metadata": {
    "collapsed": false,
    "deletable": true,
    "editable": true
   },
   "outputs": [
    {
     "name": "stdout",
     "output_type": "stream",
     "text": [
      "CommandOutputProvider(\"/usr/bin/rpm -qa --qf '%{NAME}-%{VERSION}-%{RELEASE}.%{ARCH}\t%{INSTALLTIME:date}\t%{BUILDTIME}\t%{VENDOR}\t%{BUILDHOST}\tDUMMY\t%{SIGPGP:pgpsig}\n",
      "'\")\n"
     ]
    }
   ],
   "source": [
    "from insights.specs.default import format_rpm\n",
    "from insights.core.context import DockerImageContext\n",
    "from insights.core.plugins import datasource\n",
    "from insights.core.spec_factory import CommandOutputProvider\n",
    "\n",
    "rpm_format = format_rpm()\n",
    "cmd = \"/usr/bin/rpm -qa --qf '%s'\" % rpm_format\n",
    "\n",
    "host_rpms = simple_command(cmd, context=HostContext)\n",
    "\n",
    "@datasource(DockerImageContext)\n",
    "def docker_installed_rpms(ctx):\n",
    "    root = ctx.root\n",
    "    cmd = \"/usr/bin/rpm -qa --root %s --qf '%s'\" % (root, rpm_format)\n",
    "    result = ctx.shell_out(cmd)\n",
    "    return CommandOutputProvider(cmd, ctx, content=result)\n",
    "\n",
    "installed_rpms = first_of([host_rpms, docker_installed_rpms])\n",
    "\n",
    "broker = dr.run(broker=broker)\n",
    "pprint(broker[installed_rpms])"
   ]
  },
  {
   "cell_type": "markdown",
   "metadata": {
    "deletable": true,
    "editable": true
   },
   "source": [
    "#### What datasources does Insights Core provide?\n",
    "To see a list of datasources we already collect, have a look in `insights.specs`."
   ]
  },
  {
   "cell_type": "markdown",
   "metadata": {
    "deletable": true,
    "editable": true
   },
   "source": [
    "### Parsers\n",
    "Parsers are the next major component type Insights Core provides. A `Parser` depends on a single datasource and is responsible for converting its raw content into a structured object.\n",
    "\n",
    "Let's build a simple parser."
   ]
  },
  {
   "cell_type": "code",
   "execution_count": 24,
   "metadata": {
    "collapsed": false,
    "deletable": true,
    "editable": true
   },
   "outputs": [
    {
     "name": "stdout",
     "output_type": "stream",
     "text": [
      "Host: localhost\n"
     ]
    }
   ],
   "source": [
    "from insights.core import Parser\n",
    "from insights.core.plugins import parser\n",
    "\n",
    "@parser(hostname)\n",
    "class HostnameParser(Parser):\n",
    "    def parse_content(self, content):\n",
    "        self.host, _, self.domain = content[0].partition(\".\")\n",
    "\n",
    "broker = dr.run(broker=broker)\n",
    "print \"Host:\", broker[HostnameParser].host"
   ]
  },
  {
   "cell_type": "markdown",
   "metadata": {
    "deletable": true,
    "editable": true
   },
   "source": [
    "Notice that the `parser` decorator accepts only one argument, the datasource the component needs. Also notice that our parser has a sensible default constructor that accepts a datasource and passes its content into a parse_content function.\n",
    "\n",
    "Our hostname parser is pretty simple, but it's easy to see how parsing things like rpm data or configuration files could get complicated.\n",
    "\n",
    "Speaking of rpms, hopefully it's also easy to see that an rpm parser could depend on our installed_rpms definition in the previous section and parse the content regardless of where the content originated."
   ]
  },
  {
   "cell_type": "markdown",
   "metadata": {
    "deletable": true,
    "editable": true
   },
   "source": [
    "#### What about parser dependencies that produce lists of components?\n",
    "Not only do parsers have a special decorator, they also have a special executor. If the datasource is a list, the executor will attempt to construct a parser object with each element of the list, and the value of the parser in the broker will be the list of parser objects. It's important to keep this in mind when developing components that depend on parsers.\n",
    "\n",
    "This is also why exceptions raised by components are stored as lists by component instead of single values.\n",
    "\n",
    "Here's a simple parser that depends on the `ethtool` datasource."
   ]
  },
  {
   "cell_type": "code",
   "execution_count": 25,
   "metadata": {
    "collapsed": false,
    "deletable": true,
    "editable": true
   },
   "outputs": [
    {
     "name": "stdout",
     "output_type": "stream",
     "text": [
      "Device: docker0\n",
      "Link? : no \n",
      "\n",
      "Device: enp0s31f6\n",
      "Link? : no \n",
      "\n",
      "Device: lo\n",
      "Link? : yes \n",
      "\n",
      "Device: tun0\n",
      "Link? : yes \n",
      "\n",
      "Device: virbr0\n",
      "Link? : no \n",
      "\n",
      "Device: virbr0-nic\n",
      "Link? : no \n",
      "\n",
      "Device: wlp3s0\n",
      "Link? : yes \n",
      "\n"
     ]
    }
   ],
   "source": [
    "@parser(ethtool)\n",
    "class Ethtool(Parser):\n",
    "    def parse_content(self, content):\n",
    "        self.link_detected = None\n",
    "        self.device = None\n",
    "        for line in content:\n",
    "            if \"Settings for\" in line:\n",
    "                self.device = line.split(\" \")[-1].strip(\":\")\n",
    "            if \"Link detected\" in line:\n",
    "                self.link_detected = line.split(\":\")[-1].strip()\n",
    "                \n",
    "broker = dr.run(broker=broker)\n",
    "for eth in broker[Ethtool]:\n",
    "    print \"Device:\", eth.device\n",
    "    print \"Link? :\", eth.link_detected, \"\\n\""
   ]
  },
  {
   "cell_type": "markdown",
   "metadata": {
    "deletable": true,
    "editable": true
   },
   "source": [
    "We provide curated parsers for all of our datasources. They're in `insights.parsers`."
   ]
  },
  {
   "cell_type": "markdown",
   "metadata": {
    "deletable": true,
    "editable": true
   },
   "source": [
    "### Combiners\n",
    "Combiners depend on two or more other components. They typically are used to standardize interfaces or to provide a higher-level view of some set of components.\n",
    "\n",
    "As an example of standardizing interfaces, `chkconfig` and `service` commands can be used to retrieve similar data about service status, but the command you run to check that status depends on your operating system version. A datasource would be defined for each command along with a parser to interpret its output. However, a downstream component may just care about a service's status, not about how a particular program exposes it. A combiner can depend on both `chkconfig` and `service` parsers (like this, so only one of them is required: `@combiner([[chkconfig, service]])`) and provide a unified interface to the data.\n",
    "\n",
    "As an example of a higher level view of several related components, imagine a combiner that depends on various ethtool and other network information gathering parsers. It can compile all of that information behind one view, exposing a range of information about devices, interfaces, iptables, etc. that might otherwise be scattered across a system."
   ]
  },
  {
   "cell_type": "markdown",
   "metadata": {
    "deletable": true,
    "editable": true
   },
   "source": [
    "We provide a few common combiners. They're in `insights.combiners`."
   ]
  },
  {
   "cell_type": "markdown",
   "metadata": {
    "deletable": true,
    "editable": true
   },
   "source": [
    "Here's an example `combiner` that tries a few different ways to determine the Red Hat release information. Notice that its dependency declarations and interface are just like we've discussed before. If this was a class, the `__init__` function would be declared like `def __init__(self, rh_release, un)`.\n",
    "\n",
    "```python\n",
    "from collections import namedtuple                                              \n",
    "from insights.core.plugins import combiner                                      \n",
    "from insights.parsers.redhat_release import RedhatRelease as rht_release        \n",
    "from insights.parsers.uname import Uname\n",
    "\n",
    "@combiner([rht_release, Uname])                                                 \n",
    "def redhat_release(rh_release, un):                                             \n",
    "    if un and un.release_tuple[0] != -1:                                        \n",
    "        return Release(*un.release_tuple)                                       \n",
    "                                                                                \n",
    "    if rh_release:                                                              \n",
    "        return Release(rh_release.major, rh_release.minor)                      \n",
    "                                                                                \n",
    "    raise Exception(\"Unabled to determine release.\")\n",
    "```"
   ]
  },
  {
   "cell_type": "markdown",
   "metadata": {
    "deletable": true,
    "editable": true
   },
   "source": [
    "### Rules\n",
    "Rules depend on parsers and/or combiners and encapsulate particular policies about their state. For example, a rule might detect whether a defective rpm is installed. It might also inspect the `lsof` parser to determine if a process is using a file from that defective rpm. It could also check network information to see if the process is a server and whether it's bound to an internal or external IP address. Rules can check for anything you can surface in a `parser` or a `combiner`.\n",
    "\n",
    "Rules use the `make_response` function to create their return values. It takes one required parameter, which is a key identifying the particular state the rule wants to highlight, and any number of required parameters that provide context for that state."
   ]
  },
  {
   "cell_type": "code",
   "execution_count": 26,
   "metadata": {
    "collapsed": false,
    "deletable": true,
    "editable": true
   },
   "outputs": [
    {
     "name": "stdout",
     "output_type": "stream",
     "text": [
      "{'error_key': 'IS_LOCALHOST', 'type': 'rule'}\n"
     ]
    }
   ],
   "source": [
    "from insights.core.plugins import rule, make_response\n",
    "\n",
    "ERROR_KEY1 = \"IS_LOCALHOST\"\n",
    "ERROR_KEY2 = \"NOT_LOCALHOST\"\n",
    "\n",
    "@rule(HostnameParser)\n",
    "def report(hn):\n",
    "    return make_response(ERROR_KEY1 if \"localhost\" in hn.host else ERROR_KEY2)\n",
    "\n",
    "    \n",
    "brok = dr.Broker()\n",
    "brok[HostContext] = HostContext()\n",
    "\n",
    "brok = dr.run(broker=brok)\n",
    "pprint(brok.get(report))\n"
   ]
  },
  {
   "cell_type": "markdown",
   "metadata": {
    "deletable": true,
    "editable": true
   },
   "source": [
    "### Conditions and Incidents\n",
    "Conditions and incidents are optional components that can be used by rules to encapsulate particular pieces of logic.\n",
    "\n",
    "Conditions are questions with answers that can be interpreted as True or False. For example, a condition might be \"Does the kdump configuration contain a 'net' target type?\" or \"Is the operating system Red Hat Enterprise Linux 7?\"\n",
    "\n",
    "Incidents, on the other hand, typically are specific types of warning or error messages from log type files.\n",
    "\n",
    "Why would you use conditions or incidents instead of just writing the logic directly into the rule? Future versions of Insights may allow automated analysis of rules and their conditions and incidents. You will be able to tell which conditions, incidents, and rule firings across all rules correspond with each other and how strongly. This feature will become more powerful as conditions and incidents are written independently of explicit rules."
   ]
  },
  {
   "cell_type": "markdown",
   "metadata": {
    "deletable": true,
    "editable": true
   },
   "source": [
    "## Serialization\n",
    "Say we write a pile of components and then run them all on a system. Then what? It would be nice if we could get dictionary representations of our components that we could serialize and ship somewhere like a REST endpoint or a storage location.\n",
    "\n",
    "We've written a simple serialization framework to help with this process.\n",
    "\n",
    "Let's start with our `HostnameParser` above."
   ]
  },
  {
   "cell_type": "code",
   "execution_count": 27,
   "metadata": {
    "collapsed": true,
    "deletable": true,
    "editable": true
   },
   "outputs": [],
   "source": [
    "from insights.core.serde import serializer, deserializer, marshal, unmarshal\n",
    "\n",
    "@serializer(HostnameParser)\n",
    "def ser_hostname(hn):\n",
    "    d = {}\n",
    "    d[\"host\"] = hn.host\n",
    "    d[\"domain\"] = hn.domain\n",
    "    return d\n",
    "\n",
    "@deserializer(HostnameParser)\n",
    "def des_hostname(_type, data):\n",
    "    hn = _type.__new__(_type)\n",
    "    hn.host = data[\"host\"]\n",
    "    hn.domain = data[\"domain\"]\n",
    "    return hn"
   ]
  },
  {
   "cell_type": "code",
   "execution_count": 28,
   "metadata": {
    "collapsed": false,
    "deletable": true,
    "editable": true
   },
   "outputs": [
    {
     "name": "stdout",
     "output_type": "stream",
     "text": [
      "{'object': {'domain': 'localdomain', 'host': 'localhost'},\n",
      " 'type': '__main__.HostnameParser'}\n"
     ]
    }
   ],
   "source": [
    "data = marshal(broker[HostnameParser])\n",
    "pprint(data)"
   ]
  },
  {
   "cell_type": "code",
   "execution_count": 29,
   "metadata": {
    "collapsed": false,
    "deletable": true,
    "editable": true
   },
   "outputs": [
    {
     "name": "stdout",
     "output_type": "stream",
     "text": [
      "Host: localhost\n",
      "Domain: localdomain\n"
     ]
    }
   ],
   "source": [
    "hn = unmarshal(data)\n",
    "print \"Host:\", hn.host\n",
    "print \"Domain:\", hn.domain"
   ]
  },
  {
   "cell_type": "markdown",
   "metadata": {
    "deletable": true,
    "editable": true
   },
   "source": [
    "Serialization works by looking for a function registered to handle the class of the given object. If a function isn't found, it looks for a serializer registered for the next object in the class MRO list. This continues all the way up to `object`. If one still isn't found, we punt and just return the object as it is. Deserialization works in the same way.\n",
    "\n",
    "This means if we have components that share a base class, we can sometimes write serde functions for the base class and not have to write separate ones for all the subclasses.\n",
    "\n",
    "For example, serialization and deserialization functions exist for the `Parser` super class that work on the output of `vars`. That means that any `Parser` subclass with attributes of simple types can be automatically serialized and deserialized.\n",
    "\n",
    "We already provide serde functions for all rules and all datasources created with a `SpecFactory`."
   ]
  },
  {
   "cell_type": "code",
   "execution_count": 30,
   "metadata": {
    "collapsed": false,
    "deletable": true,
    "editable": true
   },
   "outputs": [
    {
     "name": "stdout",
     "output_type": "stream",
     "text": [
      "{'object': {'error_key': 'IS_LOCALHOST', 'type': 'rule'}, 'type': None}\n",
      "[{'object': {'args': 'docker0',\n",
      "             'device': u'docker0',\n",
      "             'file_name': 'ethtool_docker0',\n",
      "             'file_path': None,\n",
      "             'last_client_run': None,\n",
      "             'link_detected': u'no'},\n",
      "  'type': '__main__.Ethtool'},\n",
      " {'object': {'args': 'enp0s31f6',\n",
      "             'device': u'enp0s31f6',\n",
      "             'file_name': 'ethtool_enp0s31f6',\n",
      "             'file_path': None,\n",
      "             'last_client_run': None,\n",
      "             'link_detected': u'no'},\n",
      "  'type': '__main__.Ethtool'},\n",
      " {'object': {'args': 'lo',\n",
      "             'device': u'lo',\n",
      "             'file_name': 'ethtool_lo',\n",
      "             'file_path': None,\n",
      "             'last_client_run': None,\n",
      "             'link_detected': u'yes'},\n",
      "  'type': '__main__.Ethtool'},\n",
      " {'object': {'args': 'tun0',\n",
      "             'device': u'tun0',\n",
      "             'file_name': 'ethtool_tun0',\n",
      "             'file_path': None,\n",
      "             'last_client_run': None,\n",
      "             'link_detected': u'yes'},\n",
      "  'type': '__main__.Ethtool'},\n",
      " {'object': {'args': 'virbr0',\n",
      "             'device': u'virbr0',\n",
      "             'file_name': 'ethtool_virbr0',\n",
      "             'file_path': None,\n",
      "             'last_client_run': None,\n",
      "             'link_detected': u'no'},\n",
      "  'type': '__main__.Ethtool'},\n",
      " {'object': {'args': 'virbr0-nic',\n",
      "             'device': u'virbr0-nic',\n",
      "             'file_name': 'ethtool_virbr0-nic',\n",
      "             'file_path': None,\n",
      "             'last_client_run': None,\n",
      "             'link_detected': u'no'},\n",
      "  'type': '__main__.Ethtool'},\n",
      " {'object': {'args': 'wlp3s0',\n",
      "             'device': u'wlp3s0',\n",
      "             'file_name': 'ethtool_wlp3s0',\n",
      "             'file_path': None,\n",
      "             'last_client_run': None,\n",
      "             'link_detected': u'yes'},\n",
      "  'type': '__main__.Ethtool'}]\n"
     ]
    }
   ],
   "source": [
    "rep = marshal(brok[report])\n",
    "pprint(rep)\n",
    "\n",
    "eth = marshal(broker[Ethtool])\n",
    "pprint(eth)"
   ]
  },
  {
   "cell_type": "code",
   "execution_count": 31,
   "metadata": {
    "collapsed": false,
    "deletable": true,
    "editable": true
   },
   "outputs": [
    {
     "name": "stdout",
     "output_type": "stream",
     "text": [
      "<__main__.HostnameParser object at 0x7fb8b08cb110>\n"
     ]
    }
   ],
   "source": [
    "et = unmarshal(data)\n",
    "pprint(et)"
   ]
  },
  {
   "cell_type": "markdown",
   "metadata": {
    "deletable": true,
    "editable": true
   },
   "source": [
    "## Observers\n",
    "Insights Core allows you to attach functions to component types, and they'll be called any time a component of that type is encountered. You can attach observer functions globally or to a particular broker.\n",
    "\n",
    "Observers are called whether a component succeeds or not. They take the component and the broker right after the component is evaluated and so are able to ask the broker about values, exceptions, missing requirements, etc."
   ]
  },
  {
   "cell_type": "code",
   "execution_count": 32,
   "metadata": {
    "collapsed": false,
    "deletable": true,
    "editable": true
   },
   "outputs": [
    {
     "name": "stdout",
     "output_type": "stream",
     "text": [
      "<__main__.HostnameParser object at 0x7fb8b0d55790>\n",
      "[<__main__.Ethtool object at 0x7fb8b0d4e6d0>,\n",
      " <__main__.Ethtool object at 0x7fb8b0d4e710>,\n",
      " <__main__.Ethtool object at 0x7fb8b0d4e750>,\n",
      " <__main__.Ethtool object at 0x7fb8b0d4e790>,\n",
      " <__main__.Ethtool object at 0x7fb8b0d4e7d0>,\n",
      " <__main__.Ethtool object at 0x7fb8b0d4e810>,\n",
      " <__main__.Ethtool object at 0x7fb8b0d4e850>]\n"
     ]
    }
   ],
   "source": [
    "def observer(c, broker):\n",
    "    if c not in broker:\n",
    "        return\n",
    "    \n",
    "    value = broker[c]\n",
    "    pprint(value)\n",
    "    \n",
    "broker.add_observer(observer, component_type=parser)\n",
    "broker = dr.run(broker=broker)"
   ]
  },
  {
   "cell_type": "markdown",
   "metadata": {
    "deletable": true,
    "editable": true
   },
   "source": [
    "## Combining Serialization and Observers\n",
    "We can combine concepts from the last two sections to serialize components based on their type. The step from here to writing the data to yaml (or anything else) is trivial."
   ]
  },
  {
   "cell_type": "code",
   "execution_count": 33,
   "metadata": {
    "collapsed": false,
    "deletable": true,
    "editable": true
   },
   "outputs": [
    {
     "name": "stdout",
     "output_type": "stream",
     "text": [
      "<__main__.HostnameParser object at 0x7fb8b0d55790>\n",
      "{'object': {'domain': 'localdomain', 'host': 'localhost'},\n",
      " 'type': '__main__.HostnameParser'}\n",
      "[<__main__.Ethtool object at 0x7fb8b0d4e6d0>,\n",
      " <__main__.Ethtool object at 0x7fb8b0d4e710>,\n",
      " <__main__.Ethtool object at 0x7fb8b0d4e750>,\n",
      " <__main__.Ethtool object at 0x7fb8b0d4e790>,\n",
      " <__main__.Ethtool object at 0x7fb8b0d4e7d0>,\n",
      " <__main__.Ethtool object at 0x7fb8b0d4e810>,\n",
      " <__main__.Ethtool object at 0x7fb8b0d4e850>]\n",
      "[{'object': {'args': 'docker0',\n",
      "             'device': u'docker0',\n",
      "             'file_name': 'ethtool_docker0',\n",
      "             'file_path': None,\n",
      "             'last_client_run': None,\n",
      "             'link_detected': u'no'},\n",
      "  'type': '__main__.Ethtool'},\n",
      " {'object': {'args': 'enp0s31f6',\n",
      "             'device': u'enp0s31f6',\n",
      "             'file_name': 'ethtool_enp0s31f6',\n",
      "             'file_path': None,\n",
      "             'last_client_run': None,\n",
      "             'link_detected': u'no'},\n",
      "  'type': '__main__.Ethtool'},\n",
      " {'object': {'args': 'lo',\n",
      "             'device': u'lo',\n",
      "             'file_name': 'ethtool_lo',\n",
      "             'file_path': None,\n",
      "             'last_client_run': None,\n",
      "             'link_detected': u'yes'},\n",
      "  'type': '__main__.Ethtool'},\n",
      " {'object': {'args': 'tun0',\n",
      "             'device': u'tun0',\n",
      "             'file_name': 'ethtool_tun0',\n",
      "             'file_path': None,\n",
      "             'last_client_run': None,\n",
      "             'link_detected': u'yes'},\n",
      "  'type': '__main__.Ethtool'},\n",
      " {'object': {'args': 'virbr0',\n",
      "             'device': u'virbr0',\n",
      "             'file_name': 'ethtool_virbr0',\n",
      "             'file_path': None,\n",
      "             'last_client_run': None,\n",
      "             'link_detected': u'no'},\n",
      "  'type': '__main__.Ethtool'},\n",
      " {'object': {'args': 'virbr0-nic',\n",
      "             'device': u'virbr0-nic',\n",
      "             'file_name': 'ethtool_virbr0-nic',\n",
      "             'file_path': None,\n",
      "             'last_client_run': None,\n",
      "             'link_detected': u'no'},\n",
      "  'type': '__main__.Ethtool'},\n",
      " {'object': {'args': 'wlp3s0',\n",
      "             'device': u'wlp3s0',\n",
      "             'file_name': 'ethtool_wlp3s0',\n",
      "             'file_path': None,\n",
      "             'last_client_run': None,\n",
      "             'link_detected': u'yes'},\n",
      "  'type': '__main__.Ethtool'}]\n"
     ]
    }
   ],
   "source": [
    "def marshaller(c, broker):\n",
    "    if c not in broker:\n",
    "        return\n",
    "    \n",
    "    value = broker[c]\n",
    "    data = marshal(value)\n",
    "    pprint(data)\n",
    "    \n",
    "broker.add_observer(marshaller, component_type=parser)\n",
    "broker = dr.run(broker=broker)\n",
    "\n",
    "# Notice that the previous observer hooked onto the broker from the Observers section\n",
    "# also fires here. You can add as many observers as you want."
   ]
  }
 ],
 "metadata": {
  "kernelspec": {
   "display_name": "Python 2",
   "language": "python",
   "name": "python2"
  },
  "language_info": {
   "codemirror_mode": {
    "name": "ipython",
    "version": 2
   },
   "file_extension": ".py",
   "mimetype": "text/x-python",
   "name": "python",
   "nbconvert_exporter": "python",
   "pygments_lexer": "ipython2",
   "version": "2.7.14"
  }
 },
 "nbformat": 4,
 "nbformat_minor": 2
}
