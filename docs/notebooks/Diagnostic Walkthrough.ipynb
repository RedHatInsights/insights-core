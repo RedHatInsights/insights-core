{
 "cells": [
  {
   "cell_type": "markdown",
   "metadata": {
    "deletable": true,
    "editable": true
   },
   "source": [
    "# Diagnostic Walkthrough\n",
    "\n",
    "A simple use-case for troubleshooting is the identification of installed software on the system.  In this example, we will examine checking a system for the usage of `bash` based on data from the `rpm` command.  This \"walkthrough\" will avoid going into details.  Instead, it will simply lay out how the use-case could be handled using `insights-core`.  More detailed tutorials can be found [in the docs](http://insights-core.readthedocs.io/en/latest/).\n",
    "\n",
    "We'll assume we have `insights-core` already installed following the [instructions on the `README.rst`](https://github.com/RedHatInsights/insights-core/blob/master/README.rst).  Next we need to import the necessary modules."
   ]
  },
  {
   "cell_type": "code",
   "execution_count": 1,
   "metadata": {
    "collapsed": true
   },
   "outputs": [],
   "source": [
    "import sys\n",
    "sys.path.insert(0, \"../..\")"
   ]
  },
  {
   "cell_type": "code",
   "execution_count": 2,
   "metadata": {
    "collapsed": true,
    "deletable": true,
    "editable": true
   },
   "outputs": [],
   "source": [
    "from insights import rule, make_response, run\n",
    "from insights.parsers.installed_rpms import InstalledRpms"
   ]
  },
  {
   "cell_type": "markdown",
   "metadata": {
    "deletable": true,
    "editable": true
   },
   "source": [
    "The first import line has the most common components used when creating `insights-core`.  The `rule` decorator marks a function that encodes logic to be applied by the framework and the required or optional components it needs to function.  `@rule` decorated functions use `make_response` to pass back results.  The `run` method executes the system, simplifying usage of `insights-core` for small, standalone scripts and from the python interpreter.\n",
    "\n",
    "We also import the [`InstalledRpms` parser](http://insights-core.readthedocs.io/en/latest/shared_parsers_catalog/installed_rpms.html#installedrpms-command-rpm-qa).  This is a class that structures the results of the `rpm -qa` command.\n",
    "\n",
    "Next, we create our \"rule\" function."
   ]
  },
  {
   "cell_type": "code",
   "execution_count": 3,
   "metadata": {
    "collapsed": true,
    "deletable": true,
    "editable": true
   },
   "outputs": [],
   "source": [
    "@rule(InstalledRpms)\n",
    "def report(rpms):\n",
    "    rpm = rpms.get_max(\"bash\")\n",
    "    if rpm:\n",
    "        return make_response(\"BASH_INSTALLED\", version=rpm.nvr)\n",
    "    return make_response(\"BASH_NOT_INSTALLED\")"
   ]
  },
  {
   "cell_type": "markdown",
   "metadata": {
    "deletable": true,
    "editable": true
   },
   "source": [
    "Here, the `report` method will let us know if the `bash` package is installed, and if so, the latest version encountered.  The name of the function isn't important.  The `@rule` decorator defines the `report` function as a \"rule\" component type and indicates that it depends on the `InstalledRpms` parser.  This parser will be passed into the function as the first, `rpms` argument.\n",
    "\n",
    "The rest of the `report` function is fairly easy to understand noting that the `get_max` function returns the maximum version encountered of the package specified, or `None` if the package is not found.\n",
    "\n",
    "Let's try running this function using the `run` method."
   ]
  },
  {
   "cell_type": "code",
   "execution_count": 4,
   "metadata": {
    "collapsed": false,
    "deletable": true,
    "editable": true
   },
   "outputs": [
    {
     "data": {
      "text/plain": [
       "{'error_key': 'BASH_INSTALLED',\n",
       " 'type': 'rule',\n",
       " 'version': u'bash-4.4.19-1.fc27'}"
      ]
     },
     "execution_count": 4,
     "metadata": {},
     "output_type": "execute_result"
    }
   ],
   "source": [
    "results = run(report)\n",
    "results[report]"
   ]
  },
  {
   "cell_type": "markdown",
   "metadata": {
    "deletable": true,
    "editable": true
   },
   "source": [
    "The `run` command executed the framework collecting `rpm` information from my system, parsing it using the `InstalledRpms` class, and then running the `report` function.  It found that `bash` was installed. \n",
    "\n",
    "The results are keyed by function (`report` in this case).  Multiple functions can be executed, each with it's own responses.\n",
    "\n",
    "The InstalledRpms class has structured the results of the `rpm -qa` command, parsing the rows from the command output.  That is, the package NVR is separated into their own fields.  One consequence of this is that the package name is distinct. When we look for `bash`, the parser doesn't match, for example, `bash-completion` (also on my system.)  It also means the version information is understood.  So, we can do things like check a range of versions.\n",
    "\n",
    "First, let's define our range using the `bash` NVRs we care about.  We'll imagine there's a particular bug that affects `bash` starting in 4.4.16-1 and is fixed in 4.4.22-1."
   ]
  },
  {
   "cell_type": "code",
   "execution_count": 5,
   "metadata": {
    "collapsed": true,
    "deletable": true,
    "editable": true
   },
   "outputs": [],
   "source": [
    "from insights.parsers.installed_rpms import InstalledRpm\n",
    "\n",
    "lower = InstalledRpm.from_package(\"bash-4.4.16-1.fc27\")\n",
    "upper = InstalledRpm.from_package(\"bash-4.4.22-1.fc27\")"
   ]
  },
  {
   "cell_type": "markdown",
   "metadata": {
    "deletable": true,
    "editable": true
   },
   "source": [
    "Now, we'll modify the `report` function to check ranges."
   ]
  },
  {
   "cell_type": "code",
   "execution_count": 6,
   "metadata": {
    "collapsed": true,
    "deletable": true,
    "editable": true
   },
   "outputs": [],
   "source": [
    "@rule(InstalledRpms)\n",
    "def report(rpms):\n",
    "    rpm = rpms.get_max(\"bash\")\n",
    "    if rpm and rpm >= lower and rpm < upper:\n",
    "        return make_response(\"BASH_AFFECTED\", version=rpm.nvr)\n",
    "    elif rpm:\n",
    "        return make_response(\"BASH_UNAFFECTED\", version=rpm.nvr)\n",
    "    else:\n",
    "        return make_response(\"NO_BASH\")"
   ]
  },
  {
   "cell_type": "markdown",
   "metadata": {
    "deletable": true,
    "editable": true
   },
   "source": [
    "Now we can run this as before."
   ]
  },
  {
   "cell_type": "code",
   "execution_count": 7,
   "metadata": {
    "collapsed": false,
    "deletable": true,
    "editable": true
   },
   "outputs": [
    {
     "data": {
      "text/plain": [
       "{'error_key': 'BASH_AFFECTED',\n",
       " 'type': 'rule',\n",
       " 'version': u'bash-4.4.19-1.fc27'}"
      ]
     },
     "execution_count": 7,
     "metadata": {},
     "output_type": "execute_result"
    }
   ],
   "source": [
    "results = run(report)\n",
    "results[report]"
   ]
  },
  {
   "cell_type": "markdown",
   "metadata": {
    "deletable": true,
    "editable": true
   },
   "source": [
    "A few notes about this example:\n",
    "\n",
    "- The code here could be packaged up in a script, along with other rules, to be easily reused.\n",
    "- The rule can be executed against a live host, sosreport, Red Hat Insights archive, or a directory formed from an expanded archive.\n",
    "- While we defined only a rule, we could also define other components like the command to be run and a parser to structure the content.  The [stand_alone.py](https://github.com/RedHatInsights/insights-core/blob/master/stand_alone.py) is a simple  example containing these three components. \n",
    "\n",
    "The code above, (and this notebook) can be executed if `insights-core` (and jupyter-notebook) is installed.  So feel free to run and experiment with the example."
   ]
  }
 ],
 "metadata": {
  "kernelspec": {
   "display_name": "Python 2",
   "language": "python",
   "name": "python2"
  },
  "language_info": {
   "codemirror_mode": {
    "name": "ipython",
    "version": 2
   },
   "file_extension": ".py",
   "mimetype": "text/x-python",
   "name": "python",
   "nbconvert_exporter": "python",
   "pygments_lexer": "ipython2",
   "version": "2.7.14"
  }
 },
 "nbformat": 4,
 "nbformat_minor": 2
}
