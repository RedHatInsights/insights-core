{
 "cells": [
  {
   "cell_type": "markdown",
   "metadata": {
    "deletable": true,
    "editable": true
   },
   "source": [
    "# Configuration Trees\n",
    "Most configurations can be modeled as trees where a node has a name, some optional attributes, and some optional children. This includes systems that use yaml, json, and ini as well as systems like httpd, nginx, multipath, logrotate and many others that have custom formats. Many also have a primary configuration file with supplementary files included by special directives in the main file.\n",
    "\n",
    "We have developed parsers for common configuration file formats as well as the custom formats of many systems. These parsers all construct a tree of the same primitive building blocks, and their combiners properly handle include directives. The final configuration for a given system is a composite of the primary and supplementary configuration files.\n",
    "\n",
    "Since the configurations are parsed to the same primitives to build their trees, we can navigate them all using the same API.\n",
    "\n",
    "This tutorial will focus on the common API for accessing config trees. It uses httpd configuration as an example, but the API is exactly the same for other systems."
   ]
  },
  {
   "cell_type": "code",
   "execution_count": 1,
   "metadata": {
    "collapsed": false,
    "deletable": true,
    "editable": true
   },
   "outputs": [],
   "source": [
    "import sys\n",
    "sys.path.insert(0, \"../..\")"
   ]
  },
  {
   "cell_type": "code",
   "execution_count": 2,
   "metadata": {
    "collapsed": true,
    "deletable": true,
    "editable": true
   },
   "outputs": [],
   "source": [
    "from insights.combiners.httpd_conf import get_tree\n",
    "from insights.parsr.query import *\n",
    "\n",
    "conf = get_tree()"
   ]
  },
  {
   "cell_type": "markdown",
   "metadata": {
    "deletable": true,
    "editable": true
   },
   "source": [
    "`conf` now contains the consolidated httpd configuration tree from my machine. The API that follows is exactly the same for nginx, multipath, logrotate, and ini parsers. Yaml and Json parsers have a `.doc` attribute that exposes the same API. They couldn't do so directly for backward compatibility reasons."
   ]
  },
  {
   "cell_type": "markdown",
   "metadata": {
    "deletable": true,
    "editable": true
   },
   "source": [
    "## Basic Navigation\n",
    "The configuration can be treated in some sense like a dictionary:"
   ]
  },
  {
   "cell_type": "code",
   "execution_count": 3,
   "metadata": {
    "collapsed": false,
    "deletable": true,
    "editable": true
   },
   "outputs": [
    {
     "data": {
      "text/plain": [
       "Alias: /icons/ /usr/share/httpd/icons/\n",
       "Alias: /.noindex.html /usr/share/httpd/noindex/index.html"
      ]
     },
     "execution_count": 3,
     "metadata": {},
     "output_type": "execute_result"
    }
   ],
   "source": [
    "conf[\"Alias\"]"
   ]
  },
  {
   "cell_type": "code",
   "execution_count": 4,
   "metadata": {
    "collapsed": false,
    "deletable": true,
    "editable": true
   },
   "outputs": [
    {
     "data": {
      "text/plain": [
       "[Directory /]\n",
       "    AllowOverride: none\n",
       "    Require: all denied\n",
       "\n",
       "[Directory /var/www]\n",
       "    AllowOverride: None\n",
       "    Require: all granted\n",
       "\n",
       "[Directory /var/www/html]\n",
       "    Options: Indexes FollowSymLinks\n",
       "    AllowOverride: None\n",
       "    Require: all granted\n",
       "\n",
       "[Directory /var/www/cgi-bin]\n",
       "    AllowOverride: None\n",
       "    Options: None\n",
       "    Require: all granted\n",
       "\n",
       "[Directory /usr/share/httpd/icons]\n",
       "    Options: Indexes MultiViews FollowSymlinks\n",
       "    AllowOverride: None\n",
       "    Require: all granted\n",
       "\n",
       "[Directory /home/*/public_html]\n",
       "    AllowOverride: FileInfo AuthConfig Limit Indexes\n",
       "    Options: MultiViews Indexes SymLinksIfOwnerMatch IncludesNoExec\n",
       "    Require: method GET POST OPTIONS\n",
       "\n",
       "[Directory /usr/share/httpd/noindex]\n",
       "    AllowOverride: None\n",
       "    Require: all granted"
      ]
     },
     "execution_count": 4,
     "metadata": {},
     "output_type": "execute_result"
    }
   ],
   "source": [
    "conf[\"Directory\"]"
   ]
  },
  {
   "cell_type": "code",
   "execution_count": 5,
   "metadata": {
    "collapsed": false,
    "deletable": true,
    "editable": true
   },
   "outputs": [
    {
     "data": {
      "text/plain": [
       "Options: Indexes FollowSymLinks\n",
       "Options: None\n",
       "Options: Indexes MultiViews FollowSymlinks\n",
       "Options: MultiViews Indexes SymLinksIfOwnerMatch IncludesNoExec"
      ]
     },
     "execution_count": 5,
     "metadata": {},
     "output_type": "execute_result"
    }
   ],
   "source": [
    "conf[\"Directory\"][\"Options\"]"
   ]
  },
  {
   "cell_type": "markdown",
   "metadata": {
    "deletable": true,
    "editable": true
   },
   "source": [
    "Notice that the first pair of brackets are a query against the first level of the configuration tree. `conf[\"Alias\"]` returns all of the \"Alias\" nodes. `conf[\"Directory\"]` returns all of the \"Directory\" nodes.\n",
    "\n",
    "A set of brackets after another set means to chain the queries using previous query results as the starting point. So, `conf[\"Directory\"][\"Options\"]` first finds all of the \"Directory\" nodes, and then those are queried for their \"Options\" directives."
   ]
  },
  {
   "cell_type": "markdown",
   "metadata": {
    "deletable": true,
    "editable": true
   },
   "source": [
    "## Complex Queries\n",
    "In addition to simple queries that match node names, more complex queries are supported. For example, to get the \"Directory\" node for \"/\", we can do the following:"
   ]
  },
  {
   "cell_type": "code",
   "execution_count": 6,
   "metadata": {
    "collapsed": false,
    "deletable": true,
    "editable": true
   },
   "outputs": [
    {
     "data": {
      "text/plain": [
       "[Directory /]\n",
       "    AllowOverride: none\n",
       "    Require: all denied"
      ]
     },
     "execution_count": 6,
     "metadata": {},
     "output_type": "execute_result"
    }
   ],
   "source": [
    "conf[\"Directory\", \"/\"]"
   ]
  },
  {
   "cell_type": "markdown",
   "metadata": {
    "deletable": true,
    "editable": true
   },
   "source": [
    "The comma constructs a tuple, so `conf[\"Directory\", \"/\"]` and `conf[(\"Directory\", \"/\")]` are equivalent. The first element of the tuple exactly matches the node name, and subsequent elements exactly match any of the node's attributes. Notice that this is still a query, and the result behaves like a list:"
   ]
  },
  {
   "cell_type": "code",
   "execution_count": 7,
   "metadata": {
    "collapsed": false,
    "deletable": true,
    "editable": true
   },
   "outputs": [
    {
     "data": {
      "text/plain": [
       "[Directory /]\n",
       "    AllowOverride: none\n",
       "    Require: all denied\n",
       "\n",
       "[Directory /var/www]\n",
       "    AllowOverride: None\n",
       "    Require: all granted"
      ]
     },
     "execution_count": 7,
     "metadata": {},
     "output_type": "execute_result"
    }
   ],
   "source": [
    "conf[\"Directory\", \"/\", \"/var/www\"]"
   ]
  },
  {
   "cell_type": "markdown",
   "metadata": {
    "deletable": true,
    "editable": true
   },
   "source": [
    "That's asking for Directory nodes with any attribute exactly matching any of \"/\" or \"/var/www\". These can be chained with more brackets just like the simpler queries shown earlier."
   ]
  },
  {
   "cell_type": "markdown",
   "metadata": {
    "deletable": true,
    "editable": true
   },
   "source": [
    "## Predicates\n",
    "In addition to exact matches, predicates can be used to more exactly express what you want:"
   ]
  },
  {
   "cell_type": "code",
   "execution_count": 8,
   "metadata": {
    "collapsed": false,
    "deletable": true,
    "editable": true
   },
   "outputs": [
    {
     "data": {
      "text/plain": [
       "[Directory /var/www]\n",
       "    AllowOverride: None\n",
       "    Require: all granted\n",
       "\n",
       "[Directory /var/www/html]\n",
       "    Options: Indexes FollowSymLinks\n",
       "    AllowOverride: None\n",
       "    Require: all granted\n",
       "\n",
       "[Directory /var/www/cgi-bin]\n",
       "    AllowOverride: None\n",
       "    Options: None\n",
       "    Require: all granted"
      ]
     },
     "execution_count": 8,
     "metadata": {},
     "output_type": "execute_result"
    }
   ],
   "source": [
    "conf[\"Directory\", startswith(\"/var/www\")]"
   ]
  },
  {
   "cell_type": "code",
   "execution_count": 9,
   "metadata": {
    "collapsed": false,
    "deletable": true,
    "editable": true
   },
   "outputs": [
    {
     "data": {
      "text/plain": [
       "AddIconByEncoding: (CMP,/icons/compressed.gif) x-compress x-gzip\n",
       "AddIconByType: (TXT,/icons/text.gif) text/*\n",
       "AddIconByType: (IMG,/icons/image2.gif) image/*\n",
       "AddIconByType: (SND,/icons/sound2.gif) audio/*\n",
       "AddIconByType: (VID,/icons/movie.gif) video/*\n",
       "AddIcon: /icons/binary.gif .bin .exe\n",
       "AddIcon: /icons/binhex.gif .hqx\n",
       "AddIcon: /icons/tar.gif .tar\n",
       "AddIcon: /icons/world2.gif .wrl .wrl.gz .vrml .vrm .iv\n",
       "AddIcon: /icons/compressed.gif .Z .z .tgz .gz .zip\n",
       "AddIcon: /icons/a.gif .ps .ai .eps\n",
       "AddIcon: /icons/layout.gif .html .shtml .htm .pdf\n",
       "AddIcon: /icons/text.gif .txt\n",
       "AddIcon: /icons/c.gif .c\n",
       "AddIcon: /icons/p.gif .pl .py\n",
       "AddIcon: /icons/f.gif .for\n",
       "AddIcon: /icons/dvi.gif .dvi\n",
       "AddIcon: /icons/uuencoded.gif .uu\n",
       "AddIcon: /icons/script.gif .conf .sh .shar .csh .ksh .tcl\n",
       "AddIcon: /icons/tex.gif .tex\n",
       "AddIcon: /icons/bomb.gif core.\n",
       "AddIcon: /icons/back.gif ..\n",
       "AddIcon: /icons/hand.right.gif README\n",
       "AddIcon: /icons/folder.gif ^^DIRECTORY^^\n",
       "AddIcon: /icons/blank.gif ^^BLANKICON^^\n",
       "DefaultIcon: /icons/unknown.gif"
      ]
     },
     "execution_count": 9,
     "metadata": {},
     "output_type": "execute_result"
    }
   ],
   "source": [
    "conf[contains(\"Icon\")]"
   ]
  },
  {
   "cell_type": "code",
   "execution_count": 10,
   "metadata": {
    "collapsed": false,
    "deletable": true,
    "editable": true
   },
   "outputs": [
    {
     "data": {
      "text/plain": [
       "AddIconByEncoding: (CMP,/icons/compressed.gif) x-compress x-gzip\n",
       "AddIcon: /icons/compressed.gif .Z .z .tgz .gz .zip"
      ]
     },
     "execution_count": 10,
     "metadata": {},
     "output_type": "execute_result"
    }
   ],
   "source": [
    "conf[contains(\"Icon\"), contains(\"zip\")]"
   ]
  },
  {
   "cell_type": "markdown",
   "metadata": {
    "deletable": true,
    "editable": true
   },
   "source": [
    "Predicates can be combined with boolean logic. Here are all the top level nodes with \"Icon\" in the name and attributes that contain \"CMP\" and \"zip\". Note the helper `any_` (there's also an `all_`) that means any attribute must succeed."
   ]
  },
  {
   "cell_type": "code",
   "execution_count": 11,
   "metadata": {
    "collapsed": false,
    "deletable": true,
    "editable": true
   },
   "outputs": [
    {
     "data": {
      "text/plain": [
       "AddIconByEncoding: (CMP,/icons/compressed.gif) x-compress x-gzip"
      ]
     },
     "execution_count": 11,
     "metadata": {},
     "output_type": "execute_result"
    }
   ],
   "source": [
    "conf[contains(\"Icon\"), any_(contains(\"CMP\")) & any_(contains(\"zip\"))]"
   ]
  },
  {
   "cell_type": "markdown",
   "metadata": {
    "deletable": true,
    "editable": true
   },
   "source": [
    "Here are the entries with all attributes not starting with \"/\""
   ]
  },
  {
   "cell_type": "code",
   "execution_count": 12,
   "metadata": {
    "collapsed": false,
    "deletable": true,
    "editable": true
   },
   "outputs": [
    {
     "data": {
      "text/plain": [
       "AddIconByEncoding: (CMP,/icons/compressed.gif) x-compress x-gzip\n",
       "AddIconByType: (TXT,/icons/text.gif) text/*\n",
       "AddIconByType: (IMG,/icons/image2.gif) image/*\n",
       "AddIconByType: (SND,/icons/sound2.gif) audio/*\n",
       "AddIconByType: (VID,/icons/movie.gif) video/*"
      ]
     },
     "execution_count": 12,
     "metadata": {},
     "output_type": "execute_result"
    }
   ],
   "source": [
    "conf[contains(\"Icon\"), all_(~startswith(\"/\"))]"
   ]
  },
  {
   "cell_type": "markdown",
   "metadata": {
    "deletable": true,
    "editable": true
   },
   "source": [
    "Several predicates are provided: startswith, endswith, contains, lt, le, gt, ge, and eq. They can all be negated with ~ (not) and combined with & (boolean and) and | (boolean or).\n",
    "\n",
    "It's also possible to filter results based on whether they're a `Section` or a `Directive`."
   ]
  },
  {
   "cell_type": "code",
   "execution_count": 13,
   "metadata": {
    "collapsed": false,
    "deletable": true,
    "editable": true
   },
   "outputs": [
    {
     "data": {
      "text/plain": [
       "[Directory /]\n",
       "    AllowOverride: none\n",
       "    Require: all denied\n",
       "\n",
       "[Directory /var/www]\n",
       "    AllowOverride: None\n",
       "    Require: all granted\n",
       "\n",
       "[Directory /var/www/html]\n",
       "    Options: Indexes FollowSymLinks\n",
       "    AllowOverride: None\n",
       "    Require: all granted\n",
       "\n",
       "DirectoryIndex: index.html\n",
       "\n",
       "[Directory /var/www/cgi-bin]\n",
       "    AllowOverride: None\n",
       "    Options: None\n",
       "    Require: all granted\n",
       "\n",
       "[Directory /usr/share/httpd/icons]\n",
       "    Options: Indexes MultiViews FollowSymlinks\n",
       "    AllowOverride: None\n",
       "    Require: all granted\n",
       "\n",
       "[Directory /home/*/public_html]\n",
       "    AllowOverride: FileInfo AuthConfig Limit Indexes\n",
       "    Options: MultiViews Indexes SymLinksIfOwnerMatch IncludesNoExec\n",
       "    Require: method GET POST OPTIONS\n",
       "\n",
       "[Directory /usr/share/httpd/noindex]\n",
       "    AllowOverride: None\n",
       "    Require: all granted"
      ]
     },
     "execution_count": 13,
     "metadata": {},
     "output_type": "execute_result"
    }
   ],
   "source": [
    "conf.find(startswith(\"Directory\"))"
   ]
  },
  {
   "cell_type": "code",
   "execution_count": 14,
   "metadata": {
    "collapsed": false,
    "deletable": true,
    "editable": true
   },
   "outputs": [
    {
     "name": "stdout",
     "output_type": "stream",
     "text": [
      "Directives:\n",
      "DirectoryIndex: index.html\n",
      "\n",
      "Sections:\n",
      "[Directory /]\n",
      "    AllowOverride: none\n",
      "    Require: all denied\n",
      "\n",
      "[Directory /var/www]\n",
      "    AllowOverride: None\n",
      "    Require: all granted\n",
      "\n",
      "[Directory /var/www/html]\n",
      "    Options: Indexes FollowSymLinks\n",
      "    AllowOverride: None\n",
      "    Require: all granted\n",
      "\n",
      "[Directory /var/www/cgi-bin]\n",
      "    AllowOverride: None\n",
      "    Options: None\n",
      "    Require: all granted\n",
      "\n",
      "[Directory /usr/share/httpd/icons]\n",
      "    Options: Indexes MultiViews FollowSymlinks\n",
      "    AllowOverride: None\n",
      "    Require: all granted\n",
      "\n",
      "[Directory /home/*/public_html]\n",
      "    AllowOverride: FileInfo AuthConfig Limit Indexes\n",
      "    Options: MultiViews Indexes SymLinksIfOwnerMatch IncludesNoExec\n",
      "    Require: method GET POST OPTIONS\n",
      "\n",
      "[Directory /usr/share/httpd/noindex]\n",
      "    AllowOverride: None\n",
      "    Require: all granted\n",
      "\n",
      "\n",
      "Chained filtering:\n",
      "Options: Indexes FollowSymLinks\n",
      "Options: None\n",
      "Options: Indexes MultiViews FollowSymlinks\n",
      "Options: MultiViews Indexes SymLinksIfOwnerMatch IncludesNoExec\n"
     ]
    }
   ],
   "source": [
    "query = startswith(\"Directory\")\n",
    "print \"Directives:\"\n",
    "print conf.find(query).directives\n",
    "print\n",
    "print \"Sections:\"\n",
    "print conf.find(query).sections\n",
    "print\n",
    "print \"Chained filtering:\"\n",
    "print conf.find(query).sections[\"Options\"]"
   ]
  },
  {
   "cell_type": "markdown",
   "metadata": {
    "deletable": true,
    "editable": true
   },
   "source": [
    "Notice that `conf[startswith(\"Dir\")].sections` is not the same as `conf.sections.[startswith(\"Dir\")]`. The first finds all the top level nodes that start with \"Dir\" and then filters those to just the sections. The second gets all of the top level sections and then searches their children for nodes starting with \"Dir.\""
   ]
  },
  {
   "cell_type": "code",
   "execution_count": 15,
   "metadata": {
    "collapsed": false,
    "deletable": true,
    "editable": true
   },
   "outputs": [
    {
     "name": "stdout",
     "output_type": "stream",
     "text": [
      "Top level Sections starting with 'Dir':\n",
      "[Directory /]\n",
      "    AllowOverride: none\n",
      "    Require: all denied\n",
      "\n",
      "[Directory /var/www]\n",
      "    AllowOverride: None\n",
      "    Require: all granted\n",
      "\n",
      "[Directory /var/www/html]\n",
      "    Options: Indexes FollowSymLinks\n",
      "    AllowOverride: None\n",
      "    Require: all granted\n",
      "\n",
      "[Directory /var/www/cgi-bin]\n",
      "    AllowOverride: None\n",
      "    Options: None\n",
      "    Require: all granted\n",
      "\n",
      "[Directory /usr/share/httpd/icons]\n",
      "    Options: Indexes MultiViews FollowSymlinks\n",
      "    AllowOverride: None\n",
      "    Require: all granted\n",
      "\n",
      "[Directory /home/*/public_html]\n",
      "    AllowOverride: FileInfo AuthConfig Limit Indexes\n",
      "    Options: MultiViews Indexes SymLinksIfOwnerMatch IncludesNoExec\n",
      "    Require: method GET POST OPTIONS\n",
      "\n",
      "[Directory /usr/share/httpd/noindex]\n",
      "    AllowOverride: None\n",
      "    Require: all granted\n",
      "\n",
      "\n",
      "Children starting with 'Dir' of any top level Section:\n",
      "DirectoryIndex: index.html\n"
     ]
    }
   ],
   "source": [
    "print \"Top level Sections starting with 'Dir':\"\n",
    "print conf[startswith(\"Dir\")].sections\n",
    "print\n",
    "print \"Children starting with 'Dir' of any top level Section:\"\n",
    "print conf.sections[startswith(\"Dir\")]"
   ]
  },
  {
   "cell_type": "markdown",
   "metadata": {
    "deletable": true,
    "editable": true
   },
   "source": [
    "### Ignoring Case\n",
    "All of the predicates configtree defines take an `ignore_case` keywork parameter. They also have versions with an `i` prefix that pass `ignore_case=True` for you. So `startswith(\"abc\", ignore_case=True)` is the same as `istartswith(\"abc\")`, etc.\n",
    "\n",
    "It's not possible to ignore case with simple dictionary like access unless you use a predicate: `conf[ieq(\"ifmodule\")]` gets all top level elements with a name equal to any case variant of \"ifmodule\" whereas `conf[\"ifmodule\"]` is a strict case match."
   ]
  },
  {
   "cell_type": "markdown",
   "metadata": {
    "deletable": true,
    "editable": true
   },
   "source": [
    "## Truth and Iteration\n",
    "Nodes are \"truthy\" depending on whether they have children. They're also iterable and indexable."
   ]
  },
  {
   "cell_type": "code",
   "execution_count": 16,
   "metadata": {
    "collapsed": false,
    "deletable": true,
    "editable": true
   },
   "outputs": [
    {
     "name": "stdout",
     "output_type": "stream",
     "text": [
      "Boolean: False\n",
      "Length: 0\n",
      "\n",
      "Iteration:\n",
      "/\n",
      "/var/www\n",
      "/var/www/html\n",
      "/var/www/cgi-bin\n",
      "/usr/share/httpd/icons\n",
      "/home/*/public_html\n",
      "/usr/share/httpd/noindex\n",
      "\n",
      "Indexing:\n",
      "/\n",
      "/\n",
      "/usr/share/httpd/noindex\n",
      "/usr/share/httpd/noindex\n"
     ]
    }
   ],
   "source": [
    "res = conf[\"Blah\"]\n",
    "print \"Boolean:\", bool(res)\n",
    "print \"Length:\", len(res)\n",
    "print\n",
    "print \"Iteration:\"\n",
    "for c in conf[\"Directory\"]:\n",
    "    print c.value\n",
    "print\n",
    "print \"Indexing:\"\n",
    "print conf[\"Directory\"][0].value\n",
    "print conf[\"Directory\"][first].value\n",
    "print conf[\"Directory\"][-1].value\n",
    "print conf[\"Directory\"][last].value\n"
   ]
  },
  {
   "cell_type": "markdown",
   "metadata": {
    "deletable": true,
    "editable": true
   },
   "source": [
    "This is also true of conf itself:"
   ]
  },
  {
   "cell_type": "code",
   "execution_count": 17,
   "metadata": {
    "collapsed": false,
    "deletable": true,
    "editable": true
   },
   "outputs": [
    {
     "data": {
      "text/plain": [
       "['AddDefaultCharset',\n",
       " 'AddIcon',\n",
       " 'AddIconByEncoding',\n",
       " 'AddIconByType',\n",
       " 'Alias',\n",
       " 'DNSSDEnable',\n",
       " 'DefaultIcon',\n",
       " 'Directory',\n",
       " 'DocumentRoot',\n",
       " 'EnableSendfile',\n",
       " 'ErrorLog',\n",
       " 'Files',\n",
       " 'Group',\n",
       " 'HeaderName',\n",
       " 'IfModule',\n",
       " 'IndexIgnore',\n",
       " 'IndexOptions',\n",
       " 'Listen',\n",
       " 'LoadModule',\n",
       " 'LocationMatch',\n",
       " 'LogLevel',\n",
       " 'ReadmeName',\n",
       " 'ServerAdmin',\n",
       " 'ServerRoot',\n",
       " 'User']"
      ]
     },
     "execution_count": 17,
     "metadata": {},
     "output_type": "execute_result"
    }
   ],
   "source": [
    "sorted(set(c.name for c in conf))"
   ]
  },
  {
   "cell_type": "markdown",
   "metadata": {
    "deletable": true,
    "editable": true
   },
   "source": [
    "## Attributes\n",
    "The individual results in a result set have a name, value, attributes, children, an immediate parent, a root, and context for their enclosing file that includes its path and their line within it. If a node exists at the top of the tree, it is its own root."
   ]
  },
  {
   "cell_type": "code",
   "execution_count": 18,
   "metadata": {
    "collapsed": false,
    "deletable": true,
    "editable": true
   },
   "outputs": [
    {
     "name": "stdout",
     "output_type": "stream",
     "text": [
      "Node name: ServerRoot\n",
      "Value: /etc/httpd\n",
      "Attributes: ['/etc/httpd']\n",
      "Children: 0\n",
      "Parent: None\n",
      "Root: ServerRoot: /etc/httpd\n",
      "File:  /etc/httpd/conf/httpd.conf\n",
      "Original Line: ServerRoot \"/etc/httpd\"\n",
      "Line Number: 31\n"
     ]
    }
   ],
   "source": [
    "root = conf.find(\"ServerRoot\")[0]\n",
    "print \"Node name:\", root.name\n",
    "print \"Value:\", root.value\n",
    "print \"Attributes:\", root.attrs\n",
    "print \"Children:\", len(root.children)\n",
    "print \"Parent:\", root.parent.name\n",
    "print \"Root:\", root.root\n",
    "print \"File: \", root.file_path\n",
    "print \"Original Line:\", root.line\n",
    "print \"Line Number:\", root.lineno"
   ]
  },
  {
   "cell_type": "code",
   "execution_count": 19,
   "metadata": {
    "collapsed": false,
    "deletable": true,
    "editable": true
   },
   "outputs": [
    {
     "name": "stdout",
     "output_type": "stream",
     "text": [
      "80\n",
      "<type 'int'>\n"
     ]
    }
   ],
   "source": [
    "port = conf.find(\"Listen\").value\n",
    "print port\n",
    "print type(port)"
   ]
  },
  {
   "cell_type": "markdown",
   "metadata": {
    "deletable": true,
    "editable": true
   },
   "source": [
    "## find and select\n",
    "In addition to brackets, config trees support two other functions."
   ]
  },
  {
   "cell_type": "markdown",
   "metadata": {
    "deletable": true,
    "editable": true
   },
   "source": [
    "### find\n",
    "`find` searches the entire tree for the query you provide and returns a `Result` of all elements that match."
   ]
  },
  {
   "cell_type": "code",
   "execution_count": 20,
   "metadata": {
    "collapsed": false,
    "deletable": true,
    "editable": true
   },
   "outputs": [
    {
     "data": {
      "text/plain": [
       "ServerRoot: /etc/httpd"
      ]
     },
     "execution_count": 20,
     "metadata": {},
     "output_type": "execute_result"
    }
   ],
   "source": [
    "conf.find(\"ServerRoot\")"
   ]
  },
  {
   "cell_type": "code",
   "execution_count": 21,
   "metadata": {
    "collapsed": false,
    "deletable": true,
    "editable": true
   },
   "outputs": [
    {
     "data": {
      "text/plain": [
       "Alias: /icons/ /usr/share/httpd/icons/\n",
       "Alias: /.noindex.html /usr/share/httpd/noindex/index.html"
      ]
     },
     "execution_count": 21,
     "metadata": {},
     "output_type": "execute_result"
    }
   ],
   "source": [
    "conf.find(\"Alias\")"
   ]
  },
  {
   "cell_type": "code",
   "execution_count": 22,
   "metadata": {
    "collapsed": false
   },
   "outputs": [
    {
     "data": {
      "text/plain": [
       "LogFormat: %h %l %u %t \"%r\" %>s %b \"%{Referer}i\" \"%{User-Agent}i\" combined\n",
       "LogFormat: %h %l %u %t \"%r\" %>s %b common\n",
       "LogFormat: %h %l %u %t \"%r\" %>s %b \"%{Referer}i\" \"%{User-Agent}i\" %I %O combinedio"
      ]
     },
     "execution_count": 22,
     "metadata": {},
     "output_type": "execute_result"
    }
   ],
   "source": [
    "conf.find(\"LogFormat\")"
   ]
  },
  {
   "cell_type": "markdown",
   "metadata": {
    "deletable": true,
    "editable": true
   },
   "source": [
    "If you want the first or last match, access them with brackets as you would a list:"
   ]
  },
  {
   "cell_type": "code",
   "execution_count": 23,
   "metadata": {
    "collapsed": false,
    "deletable": true,
    "editable": true
   },
   "outputs": [
    {
     "name": "stdout",
     "output_type": "stream",
     "text": [
      "Alias: /icons/ /usr/share/httpd/icons/\n",
      "Alias: /.noindex.html /usr/share/httpd/noindex/index.html\n"
     ]
    }
   ],
   "source": [
    "print conf.find(\"Alias\")[0]\n",
    "print conf.find(\"Alias\")[-1]"
   ]
  },
  {
   "cell_type": "code",
   "execution_count": 24,
   "metadata": {
    "collapsed": false,
    "deletable": true,
    "editable": true
   },
   "outputs": [
    {
     "name": "stdout",
     "output_type": "stream",
     "text": [
      "<class 'insights.parsr.query.Result'>\n",
      "\n"
     ]
    }
   ],
   "source": [
    "r = conf.find(\"Boom\")\n",
    "print type(r)\n",
    "print r"
   ]
  },
  {
   "cell_type": "markdown",
   "metadata": {
    "deletable": true,
    "editable": true
   },
   "source": [
    "Find takes an addition parameter, `roots`, which defaults to `False`. If it is `False`, the matching entries are returned. If set to `True`, the unique set of ancestors of all matching results are returned."
   ]
  },
  {
   "cell_type": "code",
   "execution_count": 25,
   "metadata": {
    "collapsed": false,
    "deletable": true,
    "editable": true
   },
   "outputs": [
    {
     "name": "stdout",
     "output_type": "stream",
     "text": [
      "conf.find(\"LogFormat\"):\n",
      "LogFormat: %h %l %u %t \"%r\" %>s %b \"%{Referer}i\" \"%{User-Agent}i\" combined\n",
      "LogFormat: %h %l %u %t \"%r\" %>s %b common\n",
      "LogFormat: %h %l %u %t \"%r\" %>s %b \"%{Referer}i\" \"%{User-Agent}i\" %I %O combinedio\n",
      "\n",
      "conf.find(\"LogFormat\", roots=True):\n",
      "[IfModule log_config_module]\n",
      "    LogFormat: %h %l %u %t \"%r\" %>s %b \"%{Referer}i\" \"%{User-Agent}i\" combined\n",
      "    LogFormat: %h %l %u %t \"%r\" %>s %b common\n",
      "\n",
      "    [IfModule logio_module]\n",
      "        LogFormat: %h %l %u %t \"%r\" %>s %b \"%{Referer}i\" \"%{User-Agent}i\" %I %O combinedio\n",
      "\n",
      "    CustomLog: logs/ssl_request_log %t %h %{SSL_PROTOCOL}x %{SSL_CIPHER}x  %r  %b\n",
      "    CustomLog: logs/access_log combined\n",
      "\n"
     ]
    }
   ],
   "source": [
    "print 'conf.find(\"LogFormat\"):'\n",
    "print conf.find(\"LogFormat\")\n",
    "print\n",
    "print 'conf.find(\"LogFormat\", roots=True):'\n",
    "print conf.find(\"LogFormat\", roots=True)"
   ]
  },
  {
   "cell_type": "code",
   "execution_count": 26,
   "metadata": {
    "collapsed": false,
    "deletable": true,
    "editable": true
   },
   "outputs": [
    {
     "data": {
      "text/plain": [
       "LogFormat: %h %l %u %t \"%r\" %>s %b \"%{Referer}i\" \"%{User-Agent}i\" %I %O combinedio"
      ]
     },
     "execution_count": 26,
     "metadata": {},
     "output_type": "execute_result"
    }
   ],
   "source": [
    "conf.find((\"IfModule\", \"logio_module\"), \"LogFormat\")"
   ]
  },
  {
   "cell_type": "code",
   "execution_count": 27,
   "metadata": {
    "collapsed": false,
    "deletable": true,
    "editable": true
   },
   "outputs": [
    {
     "data": {
      "text/plain": [
       "LogFormat: %h %l %u %t \"%r\" %>s %b \"%{Referer}i\" \"%{User-Agent}i\" %I %O combinedio"
      ]
     },
     "execution_count": 27,
     "metadata": {},
     "output_type": "execute_result"
    }
   ],
   "source": [
    "conf.find(\"IfModule\", (\"LogFormat\", \"combinedio\"))"
   ]
  },
  {
   "cell_type": "markdown",
   "metadata": {
    "deletable": true,
    "editable": true
   },
   "source": [
    "### select\n",
    "`select` is the primitive query function on which everything else is built. Its parameters operate just like `find`, and by default it queries like a `find` that only searches from the top of the configuration tree instead of walking subtrees.\n",
    "\n",
    "To support the other cases, it takes two keyword arguments. `deep=True` causes it to search subtrees (default is `deep=False`). `roots=True` causes it to return the unique, top level nodes containing a match. This is true even when `deep=True`. If `roots=False`, it returns matching leaves instead of top level roots.\n",
    "\n",
    "* `conf.find(*queries) = conf.select(*queries, deep=True, roots=False)`\n",
    "* `conf[query] = conf.select(query, deep=False, roots=False)`"
   ]
  },
  {
   "cell_type": "code",
   "execution_count": 28,
   "metadata": {
    "collapsed": false,
    "deletable": true,
    "editable": true
   },
   "outputs": [
    {
     "name": "stdout",
     "output_type": "stream",
     "text": [
      "Alias: /icons/ /usr/share/httpd/icons/\n",
      "Alias: /.noindex.html /usr/share/httpd/noindex/index.html\n",
      "\n",
      "Nothing\n",
      "LogFormat: %h %l %u %t \"%r\" %>s %b \"%{Referer}i\" \"%{User-Agent}i\" combined\n",
      "LogFormat: %h %l %u %t \"%r\" %>s %b common\n",
      "LogFormat: %h %l %u %t \"%r\" %>s %b \"%{Referer}i\" \"%{User-Agent}i\" %I %O combinedio\n",
      "LogFormat: %h %l %u %t \"%r\" %>s %b \"%{Referer}i\" \"%{User-Agent}i\" combined\n",
      "LogFormat: %h %l %u %t \"%r\" %>s %b common\n",
      "LogFormat: %h %l %u %t \"%r\" %>s %b \"%{Referer}i\" \"%{User-Agent}i\" %I %O combinedio\n",
      "\n",
      "LogFormat: %h %l %u %t \"%r\" %>s %b \"%{Referer}i\" \"%{User-Agent}i\" combined\n",
      "LogFormat: %h %l %u %t \"%r\" %>s %b \"%{Referer}i\" \"%{User-Agent}i\" %I %O combinedio\n"
     ]
    }
   ],
   "source": [
    "print conf.select(\"Alias\")\n",
    "print\n",
    "print conf.select(\"LogFormat\") or \"Nothing\"\n",
    "print conf.select(\"LogFormat\", deep=True)\n",
    "print conf.select(\"LogFormat\", deep=True, roots=False)\n",
    "print\n",
    "print conf.select(\"LogFormat\", deep=True, roots=False)[0]\n",
    "print conf.select(\"LogFormat\", deep=True, roots=False)[-1]"
   ]
  },
  {
   "cell_type": "markdown",
   "metadata": {
    "deletable": true,
    "editable": true
   },
   "source": [
    "## Custom Predicates\n",
    "It's easy to create your own predicates to use with config trees. They come in parameterized and unparameterized types and can be used against names or attributes. If used in a name position, they're passed the node's name. If used in an attribute position, they're passed the node's attributes one at a time. If the predicate raises an exception because an attribute is of the wrong type, it's considered `False` for that attribute. Note that other attribute of the node can still cause a `True` result."
   ]
  },
  {
   "cell_type": "code",
   "execution_count": 29,
   "metadata": {
    "collapsed": false,
    "deletable": true,
    "editable": true
   },
   "outputs": [],
   "source": [
    "from insights.parsr.query.boolean import lift, lift2\n",
    "\n",
    "is_ifmod = lift(lambda x: x == \"IfModule\")\n",
    "is_user_mod = lift2(lambda x: \"user\" in x)\n",
    "divisible_by = lift2(lambda in_val, divisor: (in_val % divisor) == 0)"
   ]
  },
  {
   "cell_type": "code",
   "execution_count": 30,
   "metadata": {
    "collapsed": false,
    "deletable": true,
    "editable": true
   },
   "outputs": [
    {
     "name": "stdout",
     "output_type": "stream",
     "text": [
      "Num IfModules: 9\n",
      "User mod checks: 10\n",
      "Div by 10? Listen: 80\n",
      "Div by 3? No matches\n"
     ]
    }
   ],
   "source": [
    "print \"Num IfModules:\", len(conf[is_ifmod])\n",
    "print \"User mod checks:\", len(conf.find((\"IfModule\", is_user_mod)))\n",
    "print \"Div by 10?\", conf[\"Listen\", divisible_by(10)] or \"No matches\"\n",
    "print \"Div by 3?\", conf[\"Listen\", divisible_by(3)] or \"No matches\""
   ]
  }
 ],
 "metadata": {
  "kernelspec": {
   "display_name": "Python 2",
   "language": "python",
   "name": "python2"
  },
  "language_info": {
   "codemirror_mode": {
    "name": "ipython",
    "version": 2
   },
   "file_extension": ".py",
   "mimetype": "text/x-python",
   "name": "python",
   "nbconvert_exporter": "python",
   "pygments_lexer": "ipython2",
   "version": "2.7.15"
  }
 },
 "nbformat": 4,
 "nbformat_minor": 2
}
