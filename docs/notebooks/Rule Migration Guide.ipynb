{
 "cells": [
  {
   "cell_type": "markdown",
   "metadata": {
    "deletable": true,
    "editable": true
   },
   "source": [
    "# 1.x to 3.x Rule Migration Guide\n",
    "This guide describes changes needed for rules to run under Insights Core 3.x."
   ]
  },
  {
   "cell_type": "markdown",
   "metadata": {
    "deletable": true,
    "editable": true
   },
   "source": [
    "It covers the following topics:\n",
    "- filtering\n",
    "- decorator interfaces\n",
    "- function signatures\n",
    "- cluster rules\n",
    "- testing\n",
    "- new style specs"
   ]
  },
  {
   "cell_type": "markdown",
   "metadata": {
    "deletable": true,
    "editable": true
   },
   "source": [
    "## Filtering\n",
    "Filters are now applied to registry points or datasources instead of certain `Parser` classes.\n",
    "\n",
    "```python\n",
    "from insights.specs import Specs\n",
    "from insights.core.filters import add_filter\n",
    "\n",
    "# do this\n",
    "add_filter(Specs.messages, \"KEEP_ME\")\n",
    "add_filter(Specs.messages, [\"KEEUP_US\", \"KEEP_US_TOO\"])\n",
    "\n",
    "# instead of this\n",
    "Messages.filters.append(\"KEEP_ME\")\n",
    "Messages.filters.extend([\"KEEP_US\", \"KEEP_US_TOO\"])\n",
    "```"
   ]
  },
  {
   "cell_type": "markdown",
   "metadata": {
    "deletable": true,
    "editable": true
   },
   "source": [
    "## Decorator Interfaces\n",
    "The `requires` keyword is gone, and required dependencies are no longer lists.\n",
    "```python\n",
    "@rule(requires=[InstalledRpms, PsAuxcww])\n",
    "```\n",
    "is now\n",
    "```python\n",
    "# requires InstalledRpms and PsAuxcww\n",
    "@rule(InstalledRpms, PsAuxcww)\n",
    "\n",
    "```\n",
    "If a rule requires at least one of a set of dependencies, they are specified in a list like before.\n",
    "```python\n",
    "# requires InstalledRpms and at least one of ChkConfig or UnitFiles\n",
    "@rule(InstalledRpms, [ChkConfig, UnitFiles])\n",
    "```\n",
    "\n",
    "And `optional` dependencies haven't changed.\n",
    "```python\n",
    "# requires InstalledRpms and PsAuxcww. Will use NetstatS if it's available\n",
    "@rule(InstalledRpms, PsAuxcww, optional=[NetstatS])\n",
    "```"
   ]
  },
  {
   "cell_type": "markdown",
   "metadata": {
    "deletable": true,
    "editable": true
   },
   "source": [
    "## Component Signature\n",
    "The `local` and `shared` parameters are gone. Instead, component signatures should define parameters matching the dependencies in their decorators.\n",
    "\n",
    "```python\n",
    "# Requires InstalledRpms and PsAuxcww.\n",
    "@rule(InstalledRpms, PsAuxcww)\n",
    "def report_thing(rpms, ps):\n",
    "    pass\n",
    "\n",
    "# Requires InstalledRpms and at least one of ChkConfig or UnitFiles.\n",
    "# Both ChkConfig and UnitFiles may be populated, but only one of them is required.\n",
    "# If one of them isn't available, None is passed as its value.\n",
    "@rule(InstalledRpms, [ChkConfig, UnitFiles])\n",
    "def report_something(rpms, cfg, uf):\n",
    "    pass\n",
    "\n",
    "# Requires InstalledRpms, at least one of ChkConfig or UnitFiles, and will use NetstatS\n",
    "# if it's available. Notice how the order of report_something_else's parameter list\n",
    "# matches the order of the dependencies even when the dependency specification is\n",
    "# complicated.\n",
    "@rule(InstalledRpms, [ChkConfig, UnitFiles], optional=[NetstatS])\n",
    "def report_something_else(rpms, cfg, uf, netstat):\n",
    "    pass\n",
    "```"
   ]
  },
  {
   "cell_type": "markdown",
   "metadata": {
    "deletable": true,
    "editable": true
   },
   "source": [
    "## Conditions\n",
    "Condition behavior has been standardized to match the behavior of every other component. This means that to remove a condition from the dependency chain an exception must be raised.\n",
    "\n",
    "The purpose of a condition is to determine whether something is `True` or `False` and surface that information to other systems. The values they generate, other than raised exceptions, will always be passed on to components that depend on them.\n",
    "\n",
    "```python\n",
    "@condition(Messages)\n",
    "def has_line(msgs):\n",
    "    return \"interesting_line\" in msgs:\n",
    "```\n",
    "\n",
    "Note that `True` or `False` is returned explicitly instead of implicitly returning `None`.\n",
    "\n",
    "**It's important to remember that a condition shouldn't return `None` when it means `False`**.\n",
    "    \n",
    "That's because `None` signals \"Could not determine whether True or False\" to other systems. For example:\n",
    "\n",
    "```python\n",
    "@condition(SomeConfig)\n",
    "def check_bar_greater_than_10(config):\n",
    "    if \"bar\" in config:\n",
    "        return int(config[\"bar\"]) > 10\n",
    "```\n",
    "\n",
    "What's the appropriate boolean value for `check_bar_greater_than_10` if \"bar\" doesn't exist in `config`? It could be treated as `False`, but the value isn't actually there, and if we don't know the default value, the condition can't really say either way.\n",
    "\n",
    "At this point, you could do one of two things depending on whether you want the rule to still execute.\n",
    "\n",
    "You could raise a `dr.SkipComponent()` instead of returning `None`. External systems will still treat the condition's value as `None`. If the condition is required by the rule, the rule won't execute. If the condition is optional for the rule, the rule will still execute but will be passed `None` for the condition's value.\n",
    "\n",
    "If the condition returns `None`, external systems will treat its value as `None`, and the dependent rule will execute whether the dependency is required or optional.\n",
    "\n",
    "For example, the following rule will always execute if the condition's dependencies are met and it doesn't raise an exception regardless of what the condition returns:\n",
    "\n",
    "```python\n",
    "@rule(check_bar_greater_than_10)\n",
    "def my_rule(has_line):\n",
    "    if has_line: #  could be True, False, None, etc.\n",
    "        return make_response(\"ERROR\")\n",
    "```\n",
    "\n",
    "If the condition was written like this instead and the rule was the same, the rule would not execute:\n",
    "```python\n",
    "@condition(SomeConfig)\n",
    "def check_bar_greater_than_10(config):\n",
    "    if \"bar\" in config:\n",
    "        return int(config[\"bar\"]) > 10\n",
    "    #  we raise an exception. Since the rule requires us, it doesn't execute.\n",
    "    #  External system treat our value as None.\n",
    "    raise dr.SkipComponent()\n",
    "```\n",
    "\n",
    "However, if the rule was written like this, it would always execute regardless of what the condition returned or exceptions it raised. If the condition returns something, it gets passed to the rule. If it raises an exception, `None` gets passed to the rule.\n",
    "```python\n",
    "@rule(optional=[check_bar_greater_than_10])\n",
    "def my_rule(has_line):\n",
    "    if has_line:\n",
    "        return make_response(\"ERROR\")\n",
    "```"
   ]
  },
  {
   "cell_type": "code",
   "execution_count": 1,
   "metadata": {
    "collapsed": false,
    "deletable": true,
    "editable": true
   },
   "outputs": [
    {
     "data": {
      "text/plain": [
       "30"
      ]
     },
     "execution_count": 1,
     "metadata": {},
     "output_type": "execute_result"
    }
   ],
   "source": [
    "# Boilerplate used in later cells\n",
    "# Not necessary for new rules.\n",
    "\n",
    "import sys\n",
    "sys.path.insert(0, \"../..\")\n",
    "\n",
    "from pprint import pprint\n",
    "\n",
    "from insights import run\n",
    "from insights.core.dr import load_components\n",
    "from insights.core.plugins import make_response, rule\n",
    "\n",
    "load_components(\"insights.specs.default\")\n",
    "load_components(\"insights.specs.insights_archive\")\n",
    "load_components(\"insights.specs.sos_archive\")\n",
    "load_components(\"insights.parsers\")\n",
    "load_components(\"insights.combiners\")"
   ]
  },
  {
   "cell_type": "markdown",
   "metadata": {
    "deletable": true,
    "editable": true
   },
   "source": [
    "### @rule Example"
   ]
  },
  {
   "cell_type": "code",
   "execution_count": 2,
   "metadata": {
    "collapsed": true,
    "deletable": true,
    "editable": true
   },
   "outputs": [],
   "source": [
    "from insights.parsers.installed_rpms import InstalledRpms\n",
    "from insights.parsers.ps import PsAuxcww\n",
    "\n",
    "@rule(InstalledRpms, PsAuxcww)\n",
    "def report(rpms, ps):\n",
    "    rpm_name = \"bash\"\n",
    "    if rpm_name in rpms and \"bash\" in ps:\n",
    "        rpm = rpms.get_max(rpm_name)\n",
    "        return make_response(\"BASH_RUNNING\",\n",
    "                             version=rpm.version,\n",
    "                             release=rpm.release,\n",
    "                             arch=rpm.arch\n",
    "                            )"
   ]
  },
  {
   "cell_type": "code",
   "execution_count": 3,
   "metadata": {
    "collapsed": false,
    "deletable": true,
    "editable": true
   },
   "outputs": [
    {
     "name": "stdout",
     "output_type": "stream",
     "text": [
      "{'arch': u'x86_64',\n",
      " 'error_key': 'BASH_RUNNING',\n",
      " 'release': u'1.fc27',\n",
      " 'type': 'rule',\n",
      " 'version': u'4.4.19'}\n"
     ]
    }
   ],
   "source": [
    "broker = run(report)\n",
    "pprint(broker[report])"
   ]
  },
  {
   "cell_type": "markdown",
   "metadata": {
    "deletable": true,
    "editable": true
   },
   "source": [
    "## Cluster Rules\n",
    "Cluster rules are not supported at this time. You can mark a rule as a cluster rule by adding `cluster=True` to its decorator, but these rules don't actually run since cluster archives are not supported."
   ]
  },
  {
   "cell_type": "markdown",
   "metadata": {
    "deletable": true,
    "editable": true
   },
   "source": [
    "## Testing\n",
    "Unit tests need to reflect the new function signatures of condition, rules, etc. Rules no longer take `local` and `shared` parameters but are instead directly passed their dependencies as arguments.\n",
    "\n",
    "### Integration Tests\n",
    "`InputData.add` now takes `Specs.<thing>` as its first parameter instead of a string. You'll need to add `from insights.specs import Specs` to the import list at the top of the test file.\n",
    "\n",
    "\n",
    "The `yield input_data, [expected]` lines should instead be `yield input_data, expected`. Also, yield `None` instead of `[]`. In summary, there's no need to wrap the expected result in a list.\n",
    "\n",
    "`@archive_provider` accepts the rule itself instead of the rule module:\n",
    "\n",
    "```python\n",
    "from insights.plugins import vulnerable_kernel\n",
    "\n",
    "# do this\n",
    "@archive_provider(vulnerable_kernel.report)\n",
    "def integration_tests():\n",
    "...\n",
    "\n",
    "#instead of this\n",
    "@archive_provider(vulnerable_kernel)\n",
    "def integration_tests():\n",
    "...\n",
    "```"
   ]
  },
  {
   "cell_type": "markdown",
   "metadata": {
    "deletable": true,
    "editable": true
   },
   "source": [
    "## New Style Specs\n",
    "Specs in 3.x are called \"datasources\", and they're functions like rules and other components. However, they are special because they get passed an object called a `broker` instead of directly getting their dependencies, and they're meant to execute on the machine you want to analyze. The `broker` is like the `shared` object in 1.x.  A much more detailed guide on the new spec system can be found in the [Datasource Registry](https://github.com/RedHatInsights/insights-core/blob/master/notebooks/Datasource%20Registry.ipynb) notebook."
   ]
  },
  {
   "cell_type": "code",
   "execution_count": 4,
   "metadata": {
    "collapsed": true,
    "deletable": true,
    "editable": true
   },
   "outputs": [],
   "source": [
    "from insights.core.plugins import datasource\n",
    "from insights.core.spec_factory import SpecSet, TextFileProvider\n",
    "\n",
    "class TheSpecs(SpecSet):\n",
    "\n",
    "    @datasource()\n",
    "    def release(broker):\n",
    "        return TextFileProvider(\"etc/redhat-release\")"
   ]
  },
  {
   "cell_type": "code",
   "execution_count": 5,
   "metadata": {
    "collapsed": false,
    "deletable": true,
    "editable": true
   },
   "outputs": [
    {
     "name": "stdout",
     "output_type": "stream",
     "text": [
      "['Fedora release 27 (Twenty Seven)']\n"
     ]
    }
   ],
   "source": [
    "broker = run(TheSpecs.release)\n",
    "print broker[TheSpecs.release].content"
   ]
  },
  {
   "cell_type": "markdown",
   "metadata": {
    "deletable": true,
    "editable": true
   },
   "source": [
    "This allows data sources to generate content using the full power of python. Almost anything can go in the function body of a data source."
   ]
  },
  {
   "cell_type": "markdown",
   "metadata": {
    "deletable": true,
    "editable": true
   },
   "source": [
    "Directly defining data sources is powerful, but it's tedious when you just want to collect files or execute simple commands. The `spec_factory` module streamlines those use cases by creating `@datasource` decorated functions for you."
   ]
  },
  {
   "cell_type": "code",
   "execution_count": 6,
   "metadata": {
    "collapsed": false,
    "deletable": true,
    "editable": true
   },
   "outputs": [
    {
     "name": "stdout",
     "output_type": "stream",
     "text": [
      "<function hosts at 0x7fddfefee7d0>\n",
      "<function uptime at 0x7fddfefeec80>\n"
     ]
    }
   ],
   "source": [
    "from insights.specs import Specs\n",
    "from insights.core.spec_factory import simple_file, simple_command\n",
    "\n",
    "class MySpecs(Specs):\n",
    "    hosts = simple_file(\"/etc/hosts\")\n",
    "    uptime = simple_command(\"/bin/uptime\")\n",
    "\n",
    "\n",
    "print MySpecs.hosts\n",
    "print MySpecs.uptime"
   ]
  },
  {
   "cell_type": "code",
   "execution_count": 7,
   "metadata": {
    "collapsed": false,
    "deletable": true,
    "editable": true
   },
   "outputs": [
    {
     "name": "stdout",
     "output_type": "stream",
     "text": [
      "['127.0.0.1   alonzo', '::1         alonzo']\n",
      "[u' 14:48:46 up 4 days,  1:12,  1 user,  load average: 1.23, 1.07, 0.93']\n"
     ]
    }
   ],
   "source": [
    "broker = run(MySpecs.hosts)\n",
    "pprint(broker[MySpecs.hosts].content)\n",
    "\n",
    "broker = run(MySpecs.uptime)\n",
    "pprint(broker[MySpecs.uptime].content)"
   ]
  },
  {
   "cell_type": "markdown",
   "metadata": {
    "deletable": true,
    "editable": true
   },
   "source": [
    "## Standard Datasources\n",
    "Insights Core 3.x provides a standard set of datasources in [insights/specs/\\_\\_init\\_\\_.py](https://github.com/RedHatInsights/insights-core/blob/master/insights/specs/__init__.py). They're all defined as `RegistryPoint` instances, which are special datasources with which datasource implementations for particular contexts can register themselves. For more information about how registration and overrides work, see the [Datasource Registry Tutorial](https://github.com/RedHatInsights/insights-core/blob/master/notebooks/Datasource%20Registry.ipynb)\n",
    "\n",
    "The `RegistryPoint` can take two optional keyword arguments, `multi_output` and `raw`. If a datasource implementation should produce multiple outputs (glob files, foreach_collect, foreach_execute), the RegistryPoint for it should have `multi_output=True`. If the `.content` attribute should be a single string instead of a list of lines, set `raw=True`. This allows parsers dealing with json, xml, etc. to parse content directly without joining all the lines back together first. You also should pass `kind=RawFileProvider` to the datasource implementation so that it conforms to the contract defined by its `RegistryPoint`.\n",
    "\n",
    "### Adding a New Datasource\n",
    "1. Create a RegistryPoint instance in `insights/specs/__init__.py`.\n",
    "2. Create a datasource for the RegistryPoint in insights/specs/default.py that should execute on the client.\n",
    "3. If applicable, create datasources for the RegistryPoint in `insights/specs/insights_archive.py` and `insights/specs/sos_archive.py`. Those datasources should have `context=InsightsArchiveContext` and `context=SosArchiveContext` set respectively.\n"
   ]
  }
 ],
 "metadata": {
  "kernelspec": {
   "display_name": "Python 2",
   "language": "python",
   "name": "python2"
  },
  "language_info": {
   "codemirror_mode": {
    "name": "ipython",
    "version": 2
   },
   "file_extension": ".py",
   "mimetype": "text/x-python",
   "name": "python",
   "nbconvert_exporter": "python",
   "pygments_lexer": "ipython2",
   "version": "2.7.14"
  }
 },
 "nbformat": 4,
 "nbformat_minor": 2
}
