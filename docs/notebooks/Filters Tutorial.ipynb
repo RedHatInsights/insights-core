{
 "cells": [
  {
   "cell_type": "markdown",
   "metadata": {},
   "source": [
    "# Filtering of Data in Insights Parsers and Rules\n",
    "In this tutorial we will investigate filters in insights-core, what they are, how they affect your components and how you can use them in your code.  Documentation on filters can be found in the [insights-core documentation](https://insights-core.readthedocs.io/en/latest/api_index.html#module-insights.core.filters).\n",
    "\n",
    "The primary purposes of filters are:\n",
    "\n",
    "1. to prevent the collection of sensitive information while enabling the collection of necessary information for analysis, and;\n",
    "2. to reduce the amount of information collected.\n",
    "\n",
    "Filters are typically added to rules since the purpose of a rule is to analyze particular information and identify a problem, potential problem or fact about the system.  Filters may also be added to a parser if it is required to enable parsing of the data.  We will discuss this further when we look at the example.  Filters added by rules and parsers are applied when the data is collected from a system.  Filters are combined so that if filters are added from multiple rules and parsers, each rule will receive all information that was collected.  An example will help demonstrate this.\n",
    "\n",
    "Suppose you write some rules that needs information from `/var/log/messages`.  This file could be very large and contain  potentially sensitive information so it is not desirable to collect the entire file.  Lets say *rule_a* needs messages that indicate `my_special_process` has failed to start.  And another rule, *rule_b* needs messages that indicate that `my_other_process` had the errors `MY_OTHER_PROCESS: process locked` or `MY_OTHER_PROCESS: memory exceeded`.  Then the two rules could add the following filters to ensure that just the information they need is collected:\n",
    "\n",
    "*rule_a*:\n",
    "```python\n",
    "add_filter(Specs.messages, 'my_special_process')\n",
    "```\n",
    "\n",
    "*rule_b*:\n",
    "```python\n",
    "add_filter(Specs.messages, ['MY_OTHER_PROCESS: process locked',\n",
    "                            'MY_OTHER_PROCESS: memory exceeded'])\n",
    "```\n",
    "\n",
    "The effect of this would be that when `/var/log/messages` is collected, the filters would be applied and only the lines containing the strings `'my_special_process'`, `'MY_OTHER_PROCESS: process locked'`, or `'MY_OTHER_PROCESS: memory exceeded'` would be collected.  This significantly reduces the size of the data and the chance that sensitive information in `/var/log/messages` might be collected.\n",
    "\n",
    "While there is significant benefits to filtering, you must be aware that a datasource is being filtered or your rules could fail to identify a condition that may be present on a system.  For instance suppose a rule *rule_c* also needs information from `/var/log/messages` about `process_xyz`.  If *rule_c* runs with other rules like *rule_a* or *rule_b* then it would never see lines containing `\"process_xyz\"` appearing in `/var/log/messages` unless it adds a new filter.  When any rule or parser adds a filter to a datasource, that data will be filtered for all components, not just the component adding the filter.  Because of this it is important to understand when a datasource is being filtered so that your rule will function properly, and include its own filters if needed."
   ]
  },
  {
   "cell_type": "markdown",
   "metadata": {},
   "source": [
    "## Exploring Filters\n",
    "### Unfiltered Data\n",
    "Suppose we want to write a rule that will evaluate the contents of the configuration file `death_star.ini` to determine if there are any vulnerabilities.  Since this is a new data source that is not currently collected by insights-core we'll need to add three elements to collect, parse and evaluate the information."
   ]
  },
  {
   "cell_type": "code",
   "execution_count": 1,
   "metadata": {},
   "outputs": [],
   "source": [
    "\"\"\" Some imports used by all of the code in this tutorial \"\"\"\n",
    "from __future__ import print_function\n",
    "import os\n",
    "from insights import run\n",
    "from insights.specs import SpecSet\n",
    "from insights.core import IniConfigFile\n",
    "from insights.core.plugins import parser, rule, make_response\n",
    "from insights.core.spec_factory import simple_file"
   ]
  },
  {
   "cell_type": "markdown",
   "metadata": {},
   "source": [
    "First we'll need to add a specification to collect the configuration file.  Note that for purposes of this tutorial we are collecting from a directory where this notebook is located.  Normally the file path would be an absolute path on your system or in an archive."
   ]
  },
  {
   "cell_type": "code",
   "execution_count": 2,
   "metadata": {},
   "outputs": [],
   "source": [
    "class Specs(SpecSet):\n",
    "    \"\"\"\n",
    "    Define a new spec to collect the file we need.\n",
    "    \"\"\"\n",
    "    death_star_config = simple_file(os.path.join(os.getcwd(), 'death_star.ini'))"
   ]
  },
  {
   "cell_type": "markdown",
   "metadata": {},
   "source": [
    "Next we'll need to add a parser to parse the file being collected by the spec.  Since this file is in INI format and insights-core provides the IniConfigFile parser we can just use that to parse the file.  See [the parser documentation](https://insights-core.readthedocs.io/en/latest/api_index.html#insights.core.IniConfigFile) to find out what methods that parser provides."
   ]
  },
  {
   "cell_type": "code",
   "execution_count": 3,
   "metadata": {},
   "outputs": [],
   "source": [
    "@parser(Specs.death_star_config)\n",
    "class DeathStarCfg(IniConfigFile):\n",
    "    \"\"\"\n",
    "    Define a new parser to parse the spec. Since the spec is a standard INI format we\n",
    "    can use the existing IniConfigFile parser that is provided by insights-core.\n",
    "    \n",
    "    See documentation here:\n",
    "    https://insights-core.readthedocs.io/en/latest/api_index.html#insights.core.IniConfigFile\n",
    "    \"\"\"\n",
    "    pass"
   ]
  },
  {
   "cell_type": "markdown",
   "metadata": {},
   "source": [
    "Finally we can write the rule that will examine the contents of the parsed configuration file to determine if there are any vulnerabilities. In this INI file we can find the vulnerabilities by searching for keywords to find one that contains the string `vulnerability`.  If any vulnerabilities are found the rule should return information in the form of a `response` that documents the vulnerabilities found, and tags them with the key `DS_IS_VULNERABLE`.  If no vulnerabilities are found the rule should just drop out, effectively returning `None`."
   ]
  },
  {
   "cell_type": "code",
   "execution_count": 4,
   "metadata": {},
   "outputs": [],
   "source": [
    "@rule(DeathStarCfg)\n",
    "def ds_vulnerable(ds_cfg):\n",
    "    \"\"\"\n",
    "    Define a new rule to look for vulnerable conditions that may be\n",
    "    included in the INI file.  If found report them.\n",
    "    \"\"\"\n",
    "    vulnerabilities = []\n",
    "    for section in ds_cfg.sections():\n",
    "        print(\"Section: {}\".format(section))\n",
    "        for item_key in ds_cfg.items(section):\n",
    "            print(\"    {}={}\".format(item_key, ds_cfg.get(section, item_key)))\n",
    "            if 'vulnerability' in item_key:\n",
    "                vulnerabilities.append((item_key, ds_cfg.get(section, item_key)))\n",
    "\n",
    "    if vulnerabilities:\n",
    "        return make_response('DS_IS_VULNERABLE', vulnerabilities=vulnerabilities)"
   ]
  },
  {
   "cell_type": "markdown",
   "metadata": {},
   "source": [
    "Before we run the rule, lets look at the contents of the configuration file. It is in the format of a typical INI file and contains some interesting information.  In particular we see that it does contain a keyword that should match the string we are looking for in the rule, *\"major_vulnerability=ray-shielded particle exhaust vent\"*.  So we expect the rule to return results."
   ]
  },
  {
   "cell_type": "code",
   "execution_count": 5,
   "metadata": {},
   "outputs": [
    {
     "name": "stdout",
     "output_type": "stream",
     "text": [
      "[global]\r\n",
      "logging=debug\r\n",
      "log=/var/logs/sample.log\r\n",
      "\r\n",
      "# Keep this info secret\r\n",
      "[secret_stuff]\r\n",
      "username=dvader\r\n",
      "password=luke_is_my_son\r\n",
      "\r\n",
      "[facts]\r\n",
      "major_vulnerability=ray-shielded particle exhaust vent\r\n",
      "\r\n",
      "[settings]\r\n",
      "music=The Imperial March\r\n",
      "color=black\r\n"
     ]
    }
   ],
   "source": [
    "!cat death_star.ini"
   ]
  },
  {
   "cell_type": "markdown",
   "metadata": {},
   "source": [
    "Lets run our rule and find out.  To run the rule we'll use the `insights.run()` function and as the argument pass in our rule object (note this is not a string but the actual object).  The results returned will be an `insights.dr.broker` object that contains all sorts of information about the execution of the rule.  You can explore more details of the `broker` in the [Insights Core Tutorial](https://github.com/RedHatInsights/insights-core/blob/master/docs/notebooks/Insights%20Core%20Tutorial.ipynb) notebook.\n",
    "\n",
    "The `print` statements in our rule provide output as it loops through the configuration file."
   ]
  },
  {
   "cell_type": "code",
   "execution_count": 6,
   "metadata": {},
   "outputs": [
    {
     "name": "stdout",
     "output_type": "stream",
     "text": [
      "Section: global\n",
      "    logging=debug\n",
      "    log=/var/logs/sample.log\n",
      "Section: secret_stuff\n",
      "    username=dvader\n",
      "    password=luke_is_my_son\n",
      "Section: facts\n",
      "    major_vulnerability=ray-shielded particle exhaust vent\n",
      "Section: settings\n",
      "    color=black\n",
      "    music=The Imperial March\n"
     ]
    }
   ],
   "source": [
    "results = run(ds_vulnerable)"
   ]
  },
  {
   "cell_type": "markdown",
   "metadata": {},
   "source": [
    "Now we are ready to look at the results.  The results are stored in `results[ds_vulnerable]` where the rule object `ds_vulnerable` is the key into the dictionary of objects that your rule depended upon to execute, such as the parser `DeathStarCfg` and the spec `Spec.death_star_config`.  You can see this by looking at those objects in results."
   ]
  },
  {
   "cell_type": "code",
   "execution_count": 7,
   "metadata": {},
   "outputs": [
    {
     "data": {
      "text/plain": [
       "insights.core.spec_factory.TextFileProvider"
      ]
     },
     "execution_count": 7,
     "metadata": {},
     "output_type": "execute_result"
    }
   ],
   "source": [
    "type(results[Specs.death_star_config])"
   ]
  },
  {
   "cell_type": "code",
   "execution_count": 8,
   "metadata": {},
   "outputs": [
    {
     "data": {
      "text/plain": [
       "__main__.DeathStarCfg"
      ]
     },
     "execution_count": 8,
     "metadata": {},
     "output_type": "execute_result"
    }
   ],
   "source": [
    "type(results[DeathStarCfg])"
   ]
  },
  {
   "cell_type": "code",
   "execution_count": 9,
   "metadata": {},
   "outputs": [
    {
     "data": {
      "text/plain": [
       "insights.core.plugins.make_response"
      ]
     },
     "execution_count": 9,
     "metadata": {},
     "output_type": "execute_result"
    }
   ],
   "source": [
    "type(results[ds_vulnerable])"
   ]
  },
  {
   "cell_type": "markdown",
   "metadata": {},
   "source": [
    "Now lets look at the rule results to see if they match what we expected."
   ]
  },
  {
   "cell_type": "code",
   "execution_count": 10,
   "metadata": {},
   "outputs": [
    {
     "data": {
      "text/plain": [
       "{'error_key': 'DS_IS_VULNERABLE',\n",
       " 'type': 'rule',\n",
       " 'vulnerabilities': [(u'major_vulnerability',\n",
       "   u'ray-shielded particle exhaust vent')]}"
      ]
     },
     "execution_count": 10,
     "metadata": {},
     "output_type": "execute_result"
    }
   ],
   "source": [
    "results[ds_vulnerable]"
   ]
  },
  {
   "cell_type": "markdown",
   "metadata": {},
   "source": [
    "Success, it worked as we expected finding the vulnerability.  Now lets look at how filtering can affect the rule results."
   ]
  },
  {
   "cell_type": "markdown",
   "metadata": {},
   "source": [
    "### Filtering Data\n",
    "When we looked at the contents of the file you may have noticed some other interesting information such as this:\n",
    "```\n",
    "# Keep this info secret\n",
    "[secret_stuff]\n",
    "username=dvader\n",
    "password=luke_is_my_son\n",
    "```\n",
    "As a parser writer, if you know that a file could contain sensitive information, you may choose to filter the information in the parser to avoid collecting that information.  Usernames, passwords, hostnames, security keys, and other sensitive information should not be collected.  In this case the `username` and `password` are in the configuration file so to prevent them from being collected we should add a filter to this parser.\n",
    "\n",
    "How do we add a filter to a parser and avoid breaking the parser?  Each parser is unique so the parser writer must determine if a filter is necessary, and how to add a filter that will allow the parser to function with a minimal set of data.  For instance a Yaml or XML parser might have a difficult time parsing a filtered Yaml or XML file.\n",
    "\n",
    "For our example, we are using an INI file parser.  INI files are structured with sections which are identified as a section name in square brackets like `[section name]`, followed by items like `name` or `name=value`.  One possible way to filter an INI file is to add the filter `\"[\"` which will collect all lines with sections but no items.  This can be successfully parsed by the INI parser, so that is how we'll filter out this sensitive information in our configuration file.  We'll rewrite the parser adding the `add_filter(Specs.death_star_config, '[')` to filter all lines except those with a `'['` string."
   ]
  },
  {
   "cell_type": "code",
   "execution_count": 11,
   "metadata": {},
   "outputs": [],
   "source": [
    "from insights.core.filters import add_filter\n",
    "\n",
    "add_filter(Specs.death_star_config, '[')\n",
    "\n",
    "@parser(Specs.death_star_config)\n",
    "class DeathStarCfg(IniConfigFile):\n",
    "    \"\"\"\n",
    "    Define a new parser to parse the spec. Since the spec is a standard INI format we\n",
    "    can use the existing IniConfigFile parser that is provided by insights-core.\n",
    "    \n",
    "    See documentation here:\n",
    "    https://insights-core.readthedocs.io/en/latest/api_index.html#insights.core.IniConfigFile\n",
    "    \"\"\"\n",
    "    pass"
   ]
  },
  {
   "cell_type": "markdown",
   "metadata": {},
   "source": [
    "Now lets run the rule again and see what happens.  Do you expect the same results we got before?"
   ]
  },
  {
   "cell_type": "code",
   "execution_count": 12,
   "metadata": {},
   "outputs": [
    {
     "name": "stdout",
     "output_type": "stream",
     "text": [
      "Section: global\n",
      "Section: secret_stuff\n",
      "Section: facts\n",
      "Section: settings\n"
     ]
    },
    {
     "data": {
      "text/plain": [
       "'No results'"
      ]
     },
     "execution_count": 12,
     "metadata": {},
     "output_type": "execute_result"
    }
   ],
   "source": [
    "results = run(ds_vulnerable)\n",
    "results.get(ds_vulnerable, \"No results\")        # Use .get method of dict so we can provide default other than None"
   ]
  },
  {
   "cell_type": "markdown",
   "metadata": {},
   "source": [
    "Is that what you expected? Notice the output from the `print` statements in the rule, only the section names are printed.  That is the result of adding the filter, only lines with `'['` (the sections) are collected and provided to the parser.  This means that the lines we were looking for in the rule are no longer there, and that it appears our rule didn't find any vulnerabilities.  Next we'll look at how to fix our rule to work with the filtered data."
   ]
  },
  {
   "cell_type": "markdown",
   "metadata": {},
   "source": [
    "### Adding Filters to Rules\n",
    "We can add filters to a rule just like we added a filter to the parser, using the `add_filter()` method.  The `add_filter` method requires a spec and a string or list/set of strings.  In this case our rule is looking for the string `'vulnerability'` so we just need to add that to the filter."
   ]
  },
  {
   "cell_type": "code",
   "execution_count": 13,
   "metadata": {},
   "outputs": [],
   "source": [
    "add_filter(Specs.death_star_config, 'vulnerability')\n",
    "\n",
    "@rule(DeathStarCfg)\n",
    "def ds_vulnerable(ds_cfg):\n",
    "    \"\"\"\n",
    "    Define a new rule to look for vulnerable conditions that may be\n",
    "    included in the INI file.  If found report them.\n",
    "    \"\"\"\n",
    "    vulnerabilities = []\n",
    "    for section in ds_cfg.sections():\n",
    "        print(\"Section: {}\".format(section))\n",
    "        for item_key in ds_cfg.items(section):\n",
    "            print(\"    {}={}\".format(item_key, ds_cfg.get(section, item_key)))\n",
    "            if 'vulnerability' in item_key:\n",
    "                vulnerabilities.append((item_key, ds_cfg.get(section, item_key)))\n",
    "\n",
    "    if vulnerabilities:\n",
    "        return make_response('DS_IS_VULNERABLE', vulnerabilities=vulnerabilities)"
   ]
  },
  {
   "cell_type": "markdown",
   "metadata": {},
   "source": [
    "Now lets run the rule again and see what happens."
   ]
  },
  {
   "cell_type": "code",
   "execution_count": 14,
   "metadata": {},
   "outputs": [
    {
     "name": "stdout",
     "output_type": "stream",
     "text": [
      "Section: global\n",
      "Section: secret_stuff\n",
      "Section: facts\n",
      "    major_vulnerability=ray-shielded particle exhaust vent\n",
      "Section: settings\n"
     ]
    },
    {
     "data": {
      "text/plain": [
       "{'error_key': 'DS_IS_VULNERABLE',\n",
       " 'type': 'rule',\n",
       " 'vulnerabilities': [(u'major_vulnerability',\n",
       "   u'ray-shielded particle exhaust vent')]}"
      ]
     },
     "execution_count": 14,
     "metadata": {},
     "output_type": "execute_result"
    }
   ],
   "source": [
    "results = run(ds_vulnerable)\n",
    "results.get(ds_vulnerable, \"No results\")        # Use .get method of dict so we can provide default other than None"
   ]
  },
  {
   "cell_type": "markdown",
   "metadata": {},
   "source": [
    "Now look at the output from the `print` statements in the rule, the item that was missing is now included.  By adding the string required by our rule to the spec filters we have successfully included the data needed by our rule to detect the problem.  Also, by adding the filter to the parser we have eliminated the sensitive information from the input."
   ]
  },
  {
   "cell_type": "markdown",
   "metadata": {},
   "source": [
    "## Determining if a Spec is Filtered\n",
    "When you are developing your rule, you may want to add some code, during development, to check if the spec you are using is filtered.  This can be accomplished with the following code.  Keep in mind that any component could add a filter so make sure you test with all of the components to ensure that the state of filters for the spec are what you expect."
   ]
  },
  {
   "cell_type": "code",
   "execution_count": 15,
   "metadata": {},
   "outputs": [
    {
     "ename": "AssertionError",
     "evalue": "Unexpected filter in Specs.death_star_config: set(['[', 'vulnerability'])",
     "output_type": "error",
     "traceback": [
      "\u001b[0;31m---------------------------------------------------------------------------\u001b[0m",
      "\u001b[0;31mAssertionError\u001b[0m                            Traceback (most recent call last)",
      "\u001b[0;32m<ipython-input-15-827a882fae89>\u001b[0m in \u001b[0;36m<module>\u001b[0;34m()\u001b[0m\n\u001b[1;32m      2\u001b[0m \u001b[0;34m\u001b[0m\u001b[0m\n\u001b[1;32m      3\u001b[0m assert get_filters(Specs.death_star_config) == set(), (\n\u001b[0;32m----> 4\u001b[0;31m     \u001b[0;34m\"Unexpected filter in Specs.death_star_config: {}\"\u001b[0m\u001b[0;34m.\u001b[0m\u001b[0mformat\u001b[0m\u001b[0;34m(\u001b[0m\u001b[0mget_filters\u001b[0m\u001b[0;34m(\u001b[0m\u001b[0mSpecs\u001b[0m\u001b[0;34m.\u001b[0m\u001b[0mdeath_star_config\u001b[0m\u001b[0;34m)\u001b[0m\u001b[0;34m)\u001b[0m\u001b[0;34m\u001b[0m\u001b[0m\n\u001b[0m\u001b[1;32m      5\u001b[0m )\n\u001b[1;32m      6\u001b[0m \u001b[0;32mprint\u001b[0m\u001b[0;34m(\u001b[0m\u001b[0;34m\"Made it past the assert\"\u001b[0m\u001b[0;34m)\u001b[0m\u001b[0;34m\u001b[0m\u001b[0m\n",
      "\u001b[0;31mAssertionError\u001b[0m: Unexpected filter in Specs.death_star_config: set(['[', 'vulnerability'])"
     ]
    }
   ],
   "source": [
    "from insights.core.filters import get_filters\n",
    "\n",
    "assert get_filters(Specs.death_star_config) == set(), (\n",
    "    \"Unexpected filter in Specs.death_star_config: {}\".format(get_filters(Specs.death_star_config))\n",
    ")\n",
    "print(\"Made it past the assert\")"
   ]
  },
  {
   "cell_type": "markdown",
   "metadata": {},
   "source": [
    "Here an example of a spec in insights-core that is not filtered."
   ]
  },
  {
   "cell_type": "code",
   "execution_count": 16,
   "metadata": {},
   "outputs": [
    {
     "name": "stdout",
     "output_type": "stream",
     "text": [
      "Made it past the assert\n"
     ]
    }
   ],
   "source": [
    "from insights.specs import Specs as ISpecs\n",
    "assert get_filters(ISpecs.redhat_release) == set(), (\n",
    "    \"Unexpected filter in Specs.redhat_release: {}\".format(get_filters(ISpecs.redhat_release))\n",
    ")\n",
    "print(\"Made it past the assert\")"
   ]
  },
  {
   "cell_type": "markdown",
   "metadata": {},
   "source": [
    "## Turning Off Filtering Globally\n",
    "There are often times that you would want or need to turn off filtering in order to perform testing or to fully analyze some aspects of a system and diagnose problems.  Also if you are running locally on a system you might want to collect all data unfiltered.  You can to this by setting the environment variable `INSIGHTS_FILTERS_ENABLED=False` prior to running insights-core.  This won't work inside this notebook unless you follow the directions below."
   ]
  },
  {
   "cell_type": "code",
   "execution_count": 1,
   "metadata": {},
   "outputs": [],
   "source": [
    "\"\"\"\n",
    "This code will disable all filtering if it is run as the first cell when the notebook\n",
    "is opened.  After the notebook has been started you will need to click on the Kernel\n",
    "menu and then the restart item, and then run this cell first before all others.\n",
    "You would need to restart the kernel and then not run this cell to prevent disabling\n",
    "filters.\n",
    "\"\"\"\n",
    "import os\n",
    "os.environ['INSIGHTS_FILTERS_ENABLED'] = 'False'"
   ]
  },
  {
   "cell_type": "code",
   "execution_count": 6,
   "metadata": {},
   "outputs": [
    {
     "name": "stdout",
     "output_type": "stream",
     "text": [
      "Section: global\n",
      "    logging=debug\n",
      "    log=/var/logs/sample.log\n",
      "Section: secret_stuff\n",
      "    username=dvader\n",
      "    password=luke_is_my_son\n",
      "Section: facts\n",
      "    major_vulnerability=ray-shielded particle exhaust vent\n",
      "Section: settings\n",
      "    color=black\n",
      "    music=The Imperial March\n"
     ]
    },
    {
     "data": {
      "text/plain": [
       "{'error_key': 'DS_IS_VULNERABLE',\n",
       " 'type': 'rule',\n",
       " 'vulnerabilities': [(u'major_vulnerability',\n",
       "   u'ray-shielded particle exhaust vent')]}"
      ]
     },
     "execution_count": 6,
     "metadata": {},
     "output_type": "execute_result"
    }
   ],
   "source": [
    "results = run(ds_vulnerable)\n",
    "results.get(ds_vulnerable, \"No results\")        # Use .get method of dict so we can provide default other than None"
   ]
  },
  {
   "cell_type": "markdown",
   "metadata": {},
   "source": [
    "## Debugging Components\n",
    "If you are writing component code you may sometimes not see any results even though you expected them and no errors were displayed.  That is because insights-core is catching the exceptions and saving them.  In order to see the exceptions you can use the following method to display the results of a run and any errors that occurrerd."
   ]
  },
  {
   "cell_type": "code",
   "execution_count": 17,
   "metadata": {},
   "outputs": [],
   "source": [
    "def show_results(results, component):\n",
    "    \"\"\"\n",
    "    This function will show the results from run() where:\n",
    "    \n",
    "        results = run(component)\n",
    "        \n",
    "    run will catch all exceptions so if there are any this\n",
    "    function will print them out with a stack trace, making\n",
    "    it easier to develop component code.\n",
    "    \"\"\"\n",
    "    if component in results:\n",
    "        print(results[component])\n",
    "    else:\n",
    "        print(\"No results for: {}\".format(component))\n",
    "\n",
    "    if results.exceptions:\n",
    "        for comp in results.exceptions:\n",
    "            print(\"Component Exception: {}\".format(comp))\n",
    "            for exp in results.exceptions[comp]:\n",
    "                print(results.tracebacks[exp])"
   ]
  },
  {
   "cell_type": "markdown",
   "metadata": {},
   "source": [
    "Here's an example of this function in use"
   ]
  },
  {
   "cell_type": "code",
   "execution_count": 18,
   "metadata": {},
   "outputs": [],
   "source": [
    "@rule(DeathStarCfg)\n",
    "def bad_rule(cfg):\n",
    "    # Force an error here\n",
    "    infinity = 1 / 0"
   ]
  },
  {
   "cell_type": "code",
   "execution_count": 19,
   "metadata": {},
   "outputs": [
    {
     "name": "stderr",
     "output_type": "stream",
     "text": [
      "No handlers could be found for logger \"insights.core.dr\"\n"
     ]
    }
   ],
   "source": [
    "results = run(bad_rule)"
   ]
  },
  {
   "cell_type": "code",
   "execution_count": 20,
   "metadata": {},
   "outputs": [
    {
     "name": "stdout",
     "output_type": "stream",
     "text": [
      "No results for: <function bad_rule at 0x7fb9c7802a28>\n",
      "Component Exception: <function bad_rule at 0x7fb9c7802a28>\n",
      "Traceback (most recent call last):\n",
      "  File \"/home/bfahr/work/insights/insights-core/insights/core/dr.py\", line 619, in run\n",
      "    result = DELEGATES[component].process(broker)\n",
      "  File \"/home/bfahr/work/insights/insights-core/insights/core/dr.py\", line 463, in process\n",
      "    return self.invoke(broker)\n",
      "  File \"/home/bfahr/work/insights/insights-core/insights/core/plugins.py\", line 89, in invoke\n",
      "    r = super(rule, self).invoke(broker)\n",
      "  File \"/home/bfahr/work/insights/insights-core/insights/core/dr.py\", line 445, in invoke\n",
      "    return self.component(*args)\n",
      "  File \"<ipython-input-18-0450035609f8>\", line 4, in bad_rule\n",
      "    infinity = 1 / 0\n",
      "ZeroDivisionError: integer division or modulo by zero\n",
      "\n"
     ]
    }
   ],
   "source": [
    "show_results(results, bad_rule)"
   ]
  },
  {
   "cell_type": "code",
   "execution_count": null,
   "metadata": {},
   "outputs": [],
   "source": []
  }
 ],
 "metadata": {
  "kernelspec": {
   "display_name": "Python 2",
   "language": "python",
   "name": "python2"
  },
  "language_info": {
   "codemirror_mode": {
    "name": "ipython",
    "version": 2
   },
   "file_extension": ".py",
   "mimetype": "text/x-python",
   "name": "python",
   "nbconvert_exporter": "python",
   "pygments_lexer": "ipython2",
   "version": "2.7.15"
  }
 },
 "nbformat": 4,
 "nbformat_minor": 2
}
